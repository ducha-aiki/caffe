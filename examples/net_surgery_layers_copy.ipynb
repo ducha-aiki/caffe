{
 "metadata": {
  "description": "How to do net surgery and manually change model parameters, making a fully-convolutional classifier for dense feature extraction.",
  "example_name": "Editing model parameters",
  "include_in_docs": true,
  "signature": "sha256:7ff1bf6991a642a73d57c5b4e70b0e9186bd792d7cbfc598b007d405d816b197"
 },
 "nbformat": 3,
 "nbformat_minor": 0,
 "worksheets": [
  {
   "cells": [
    {
     "cell_type": "markdown",
     "metadata": {},
     "source": [
      "## Net Surgery copying layers from one network to another\n",
      "\n",
      "Test"
     ]
    },
    {
     "cell_type": "code",
     "collapsed": false,
     "input": [
      "# Make sure that caffe is on the python path:\n",
      "caffe_root = '../'  # this file is expected to be in {caffe_root}/examples\n",
      "import sys\n",
      "sys.path.insert(0, caffe_root + 'python')\n",
      "\n",
      "import caffe\n",
      "\n",
      "# Load the destination net.\n",
      "out_net = caffe.Net('/home/dmishkin/classifiers/proto/deploy_A_NIN.prototxt',\n",
      "                    '/home/dmishkin/classifiers/proto/A_NIN_init.caffemodel')\n"
     ],
     "language": "python",
     "metadata": {},
     "outputs": [],
     "prompt_number": 1
    },
    {
     "cell_type": "markdown",
     "metadata": {},
     "source": [
      "Consider the shapes of the inner product parameters. For weights and biases the zeroth and first dimensions are both 1. The second and third weight dimensions are the output and input sizes while the last bias dimension is the output size.\n",
      "\n",
      "The convolution weights are arranged in output $\\times$ input $\\times$ height $\\times$ width dimensions. To map the inner product weights to convolution filters, we need to roll the flat inner product vectors into channel $\\times$ height $\\times$ width filter matrices.\n",
      "\n",
      "The biases are identical to those of the inner product -- let's transplant these first since no reshaping is needed."
     ]
    },
    {
     "cell_type": "code",
     "collapsed": false,
     "input": [
      "# Load the input network to transplant the parameters.\n",
      "path_prfx='/home/dmishkin/classifiers/proto'\n",
      "\n",
      "in_net = caffe.Net(path_prfx + '/nin_deploy.prototxt',\n",
      "                   path_prfx + '/nin_imagenet_conv.caffemodel')\n"
     ],
     "language": "python",
     "metadata": {},
     "outputs": [],
     "prompt_number": 11
    },
    {
     "cell_type": "code",
     "collapsed": false,
     "input": [
      "l='cccp7-1024'\n",
      "in_net_layer_names = [l]\n",
      "out_layer_names = [l+'nin']\n",
      "#out_layer_names = ['cccpnin3']\n",
      "\n",
      "\n",
      "out_params = {pr: (out_net.params[pr][0].data, out_net.params[pr][1].data) for pr in out_layer_names}\n",
      "in_params = {pr: (in_net.params[pr][0].data,in_net.params[pr][1].data) for pr in in_net_layer_names}\n",
      "\n",
      "#Sanity check for the same shape\n",
      "for fc in out_layer_names:\n",
      "    print '{} weights are {} dimensional and biases are {} dimensional'.format(fc, out_params[fc][0].shape, out_params[fc][1].shape)   \n",
      "\n",
      "for conv in in_net_layer_names:\n",
      "    print '{} weights are {} dimensional and biases are {} dimensional'.format(conv, in_params[conv][0].shape, in_params[conv][1].shape)\n",
      "\n",
      "   \n",
      "for pr, pr_conv in zip(out_layer_names, in_net_layer_names):\n",
      "    out_params[pr][0][...] = in_params[pr_conv][0]\n"
     ],
     "language": "python",
     "metadata": {},
     "outputs": [
      {
       "output_type": "stream",
       "stream": "stdout",
       "text": [
        "cccp7-1024nin weights are (1024, 1024, 1, 1) dimensional and biases are (1, 1, 1, 1024) dimensional\n",
        "cccp7-1024 weights are (1024, 1024, 1, 1) dimensional and biases are (1, 1, 1, 1024) dimensional\n"
       ]
      }
     ],
     "prompt_number": 24
    },
    {
     "cell_type": "markdown",
     "metadata": {},
     "source": [
      "Next, save the new model weights."
     ]
    },
    {
     "cell_type": "code",
     "collapsed": false,
     "input": [
      "out_net_fname='/home/dmishkin/classifiers/proto/A_NIN_init.caffemodel'\n",
      "out_net.save(out_net_fname)"
     ],
     "language": "python",
     "metadata": {},
     "outputs": [],
     "prompt_number": 25
    },
    {
     "cell_type": "code",
     "collapsed": false,
     "input": [
      "import numpy as np\n",
      "import matplotlib.pyplot as plt\n",
      "%matplotlib inline\n",
      "\n",
      "filters = in_net.params['enc7'][0].data\n",
      "print np.sum(filters[:])"
     ],
     "language": "python",
     "metadata": {},
     "outputs": [
      {
       "output_type": "stream",
       "stream": "stdout",
       "text": [
        "202.713\n"
       ]
      }
     ],
     "prompt_number": 6
    }
   ],
   "metadata": {}
  }
 ]
}