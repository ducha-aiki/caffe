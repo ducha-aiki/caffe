{
 "cells": [
  {
   "cell_type": "markdown",
   "metadata": {},
   "source": [
    "# Python solving with LeNet\n",
    "\n",
    "In this example, we'll explore learning with Caffe in Python, using the fully-exposed `Solver` interface."
   ]
  },
  {
   "cell_type": "code",
   "execution_count": 1,
   "metadata": {
    "collapsed": false
   },
   "outputs": [],
   "source": [
    "import os\n",
    "os.chdir('..')"
   ]
  },
  {
   "cell_type": "code",
   "execution_count": 2,
   "metadata": {
    "collapsed": false
   },
   "outputs": [],
   "source": [
    "import sys\n",
    "sys.path.insert(0, './python')\n",
    "import caffe\n",
    "\n",
    "from pylab import *\n",
    "%matplotlib inline"
   ]
  },
  {
   "cell_type": "markdown",
   "metadata": {},
   "source": [
    "We'll be running the provided LeNet example (make sure you've downloaded the data and created the databases, as below)."
   ]
  },
  {
   "cell_type": "code",
   "execution_count": null,
   "metadata": {
    "collapsed": false
   },
   "outputs": [],
   "source": []
  },
  {
   "cell_type": "markdown",
   "metadata": {},
   "source": [
    "We need two external files to help out:\n",
    "* the net prototxt, defining the architecture and pointing to the train/test data\n",
    "* the solver prototxt, defining the learning parameters\n",
    "\n",
    "We start with the net. We'll write the net in a succinct and natural way as Python code that serializes to Caffe's protobuf model format.\n",
    "\n",
    "This network expects to read from pregenerated LMDBs, but reading directly from `ndarray`s is also possible using `MemoryDataLayer`."
   ]
  },
  {
   "cell_type": "code",
   "execution_count": 3,
   "metadata": {
    "collapsed": false
   },
   "outputs": [],
   "source": [
    "from caffe import layers as L\n",
    "from caffe import params as P\n",
    "\n",
    "\n",
    "\n",
    "def deepCifar(lmdb, batch_size, mirror_on,crop):\n",
    "    # our version of LeNet: a series of linear and simple nonlinear transformations\n",
    "    transform_dict=dict(mirror=mirror_on, crop_size=crop,\n",
    "                    mean_file='/home/share/storage/caffe-train/cifar10/lmdb/mean.binaryproto')\n",
    "\n",
    "    n = caffe.NetSpec()\n",
    "    n.data, n.label = L.Data(batch_size=batch_size, backend=P.Data.LMDB, source=lmdb,\n",
    "                             transform_param=transform_dict, ntop=2)\n",
    "    #n.data_drop=L.Dropout(n.data,dropout_ratio=0.2,in_place=True)\n",
    "    \n",
    "    n.conv1_1 = L.Convolution(n.data, kernel_size=3, num_output=256, pad=1,\n",
    "                              param=[dict(decay_mult=1),dict(decay_mult=0)],\n",
    "                              weight_filler=dict(type='msra', std=0.038))\n",
    "    n.relu1_1 = L.ReLU(n.conv1_1, in_place=True)\n",
    "    \n",
    "    n.conv1_2 = L.Convolution(n.conv1_1, kernel_size=3, num_output=256, pad=1,\n",
    "                              param=[dict(decay_mult=1),dict(decay_mult=0)],\n",
    "                              weight_filler=dict(type='msra', std=0.028))\n",
    "    n.relu1_2 = L.ReLU(n.conv1_2, in_place=True)\n",
    "    \n",
    "    n.conv1_3 = L.Convolution(n.conv1_2, kernel_size=3, num_output=256, pad=1,\n",
    "                              param=[dict(decay_mult=1),dict(decay_mult=0)],\n",
    "                              weight_filler=dict(type='msra', std=0.038))\n",
    "    n.relu1_3 = L.ReLU(n.conv1_3, in_place=True)\n",
    "    \n",
    "    n.conv1_4 = L.Convolution(n.conv1_3, kernel_size=3, num_output=256, pad=1,\n",
    "                              param=[dict(decay_mult=1),dict(decay_mult=0)],\n",
    "                              weight_filler=dict(type='msra', std=0.028))\n",
    "    n.relu1_4 = L.ReLU(n.conv1_4, in_place=True)\n",
    "    \n",
    "    n.conv1_5 = L.Convolution(n.conv1_4, kernel_size=3, num_output=256, pad=1,\n",
    "                              param=[dict(decay_mult=1),dict(decay_mult=0)],\n",
    "                              weight_filler=dict(type='msra', std=0.038))\n",
    "    n.relu1_5 = L.ReLU(n.conv1_5, in_place=True)\n",
    "    \n",
    "    n.conv1_6 = L.Convolution(n.conv1_5, kernel_size=3, num_output=256, pad=1,\n",
    "                              param=[dict(decay_mult=1),dict(decay_mult=0)],\n",
    "                              weight_filler=dict(type='msra', std=0.028))\n",
    "    n.relu1_6 = L.ReLU(n.conv1_6, in_place=True)\n",
    "    n.conv1_7 = L.Convolution(n.conv1_6, kernel_size=3, num_output=256, pad=1,\n",
    "                              param=[dict(decay_mult=1),dict(decay_mult=0)],\n",
    "                              weight_filler=dict(type='msra', std=0.038))\n",
    "    n.relu1_7 = L.ReLU(n.conv1_7, in_place=True)\n",
    "    \n",
    "    n.conv1_8 = L.Convolution(n.conv1_7, kernel_size=3, num_output=256, pad=1,\n",
    "                              param=[dict(decay_mult=1),dict(decay_mult=0)],\n",
    "                              weight_filler=dict(type='msra', std=0.028))\n",
    "    n.relu1_8 = L.ReLU(n.conv1_8, in_place=True)\n",
    "    \n",
    "    \n",
    "    \n",
    "    n.pool1 = L.Pooling(n.conv1_8, kernel_size=3, stride=2, pad=2, pool=P.Pooling.MAX)\n",
    "#    n.drop1=L.Dropout(n.pool1,dropout_ratio=0.5,in_place=False)\n",
    "    \n",
    "    \n",
    "    n.conv2_1 = L.Convolution(n.pool1, kernel_size=3, num_output=256, pad=1,\n",
    "                              param=[dict(decay_mult=1),dict(decay_mult=0)],\n",
    "                              weight_filler=dict(type='msra', std=0.024))\n",
    "    n.relu2_1 = L.ReLU(n.conv2_1, in_place=True)\n",
    "    n.conv2_2 = L.Convolution(n.conv2_1, kernel_size=3, num_output=256, pad=1, \n",
    "                              param=[dict(decay_mult=1),dict(decay_mult=0)],\n",
    "                              weight_filler=dict(type='msra', std=0.024))\n",
    "    n.relu2_2 = L.ReLU(n.conv2_2, in_place=True)\n",
    "    \n",
    "    n.pool2 = L.Pooling(n.conv2_2, kernel_size=3, stride=4, pool=P.Pooling.MAX)\n",
    "    \n",
    "    #n.drop2=L.Dropout(n.pool2,dropout_ratio=0.5,in_place=False)\n",
    "    \n",
    "    n.conv3_1 = L.Convolution(n.pool2, kernel_size=5, num_output=192, pad=2,\n",
    "                              param=[dict(decay_mult=1),dict(decay_mult=0)],\n",
    "                              weight_filler=dict(type='msra', std=0.034))\n",
    "    \n",
    "    n.conv3_1a = L.Convolution(n.pool2, kernel_size=5, num_output=192, pad=2,\n",
    "                              param=[dict(decay_mult=1),dict(decay_mult=0)],\n",
    "                              weight_filler=dict(type='msra', std=0.034))\n",
    "\n",
    "    n.conv3_2 = L.Convolution(n.conv3_1, kernel_size=5, num_output=64, pad=2,\n",
    "                              param=[dict(decay_mult=1),dict(decay_mult=0)],\n",
    "                              weight_filler=dict(type='msra', std=0.032))\n",
    "    n.relu3_2 = L.ReLU(n.conv3_2, in_place=True)\n",
    "    \n",
    "    n.conv3_2 = L.Convolution(n.conv3_1, kernel_size=5, num_output=64, pad=2,\n",
    "                              param=[dict(decay_mult=1),dict(decay_mult=0)],\n",
    "                              weight_filler=dict(type='msra', std=0.032))\n",
    "    n.relu3_2 = L.ReLU(n.conv3_2, in_place=True)\n",
    "    \n",
    "\n",
    "      \n",
    "    n.pool4 = L.Pooling(n.conv3_2, pool=P.Pooling.MAX, global_pooling=True)\n",
    "    n.conv_clf = L.Convolution(n.pool4, kernel_size=1, num_output=10, \n",
    "                              param=[dict(decay_mult=1),dict(decay_mult=0)],\n",
    "                              weight_filler=dict(type='gaussian', std=0.0015))\n",
    "  \n",
    "    n.loss = L.SoftmaxWithLoss(n.conv_clf, n.label)\n",
    "    return n.to_proto()\n",
    "    \n",
    "with open('examples/cifar10/auto_train_xudongdeep_cifar_maxout.prototxt', 'w') as f:\n",
    "    f.write(str(deepCifar('/home/share/storage/caffe-train/cifar10/lmdb/cifar10_train_lmdb', 32, True, 24)))\n",
    "    \n",
    "with open('examples/cifar10/auto_test_xudongdeep_cifar_maxout.prototxt', 'w') as f:\n",
    "    f.write(str(deepCifar('/home/share/storage/caffe-train/cifar10/lmdb/cifar10_test_lmdb', 40, False, 32)))"
   ]
  },
  {
   "cell_type": "code",
   "execution_count": null,
   "metadata": {
    "collapsed": true
   },
   "outputs": [],
   "source": []
  },
  {
   "cell_type": "markdown",
   "metadata": {},
   "source": [
    "The net has been written to disk in more verbose but human-readable serialization format using Google's protobuf library. You can read, write, and modify this description directly. Let's take a look at the train net."
   ]
  },
  {
   "cell_type": "code",
   "execution_count": 4,
   "metadata": {
    "collapsed": false
   },
   "outputs": [
    {
     "name": "stdout",
     "output_type": "stream",
     "text": [
      "layer {\r\n",
      "  name: \"data\"\r\n",
      "  type: \"Data\"\r\n",
      "  top: \"data\"\r\n",
      "  top: \"label\"\r\n",
      "  transform_param {\r\n",
      "    mirror: true\r\n",
      "    crop_size: 24\r\n",
      "    mean_file: \"/home/share/storage/caffe-train/cifar10/lmdb/mean.binaryproto\"\r\n",
      "  }\r\n",
      "  data_param {\r\n",
      "    source: \"/home/share/storage/caffe-train/cifar10/lmdb/cifar10_train_lmdb\"\r\n",
      "    batch_size: 32\r\n",
      "    backend: LMDB\r\n",
      "  }\r\n",
      "}\r\n",
      "layer {\r\n",
      "  name: \"conv1_1\"\r\n",
      "  type: \"Convolution\"\r\n",
      "  bottom: \"data\"\r\n",
      "  top: \"conv1_1\"\r\n",
      "  param {\r\n",
      "    decay_mult: 1.0\r\n",
      "  }\r\n",
      "  param {\r\n",
      "    decay_mult: 0.0\r\n",
      "  }\r\n",
      "  convolution_param {\r\n",
      "    num_output: 256\r\n",
      "    pad: 1\r\n",
      "    kernel_size: 3\r\n",
      "    weight_filler {\r\n",
      "      type: \"msra\"\r\n",
      "      std: 0.038\r\n",
      "    }\r\n",
      "  }\r\n",
      "}\r\n",
      "layer {\r\n",
      "  name: \"conv1_1_BN\"\r\n",
      "  type: \"BN\"\r\n",
      "  bottom: \"conv1_1\"\r\n",
      "  top: \"conv1_1_BN\"\r\n",
      "  param {\r\n",
      "    lr_mult: 1\r\n",
      "    decay_mult: 1\r\n",
      "  }\r\n",
      "  param {\r\n",
      "    lr_mult: 2\r\n",
      "    decay_mult: 0\r\n",
      "  }\r\n",
      "  bn_param {\r\n",
      "    scale_filler {\r\n",
      "      type: \"constant\"\r\n",
      "      value: 1.0000001\r\n",
      "    }\r\n",
      "    shift_filler {\r\n",
      "      type: \"constant\"\r\n",
      "      value: 1e-07\r\n",
      "    }\r\n",
      "  }\r\n",
      "}\r\n",
      "layer {\r\n",
      "  name: \"relu1_1\"\r\n",
      "  type: \"ReLU\"\r\n",
      "  bottom: \"conv1_1_BN\"\r\n",
      "  top: \"conv1_1_BN\"\r\n",
      "}\r\n",
      "layer {\r\n",
      "  name: \"conv1_2\"\r\n",
      "  type: \"Convolution\"\r\n",
      "  bottom: \"conv1_1_BN\"\r\n",
      "  top: \"conv1_2\"\r\n",
      "  param {\r\n",
      "    decay_mult: 1.0\r\n",
      "  }\r\n",
      "  param {\r\n",
      "    decay_mult: 0.0\r\n",
      "  }\r\n",
      "  convolution_param {\r\n",
      "    num_output: 256\r\n",
      "    pad: 1\r\n",
      "    kernel_size: 3\r\n",
      "    weight_filler {\r\n",
      "      type: \"msra\"\r\n",
      "      std: 0.028\r\n",
      "    }\r\n",
      "  }\r\n",
      "}\r\n",
      "layer {\r\n",
      "  name: \"conv1_2_BN\"\r\n",
      "  type: \"BN\"\r\n",
      "  bottom: \"conv1_2\"\r\n",
      "  top: \"conv1_2_BN\"\r\n",
      "  param {\r\n",
      "    lr_mult: 1\r\n",
      "    decay_mult: 1\r\n",
      "  }\r\n",
      "  param {\r\n",
      "    lr_mult: 2\r\n",
      "    decay_mult: 0\r\n",
      "  }\r\n",
      "  bn_param {\r\n",
      "    scale_filler {\r\n",
      "      type: \"constant\"\r\n",
      "      value: 1.0000001\r\n",
      "    }\r\n",
      "    shift_filler {\r\n",
      "      type: \"constant\"\r\n",
      "      value: 1e-07\r\n",
      "    }\r\n",
      "  }\r\n",
      "}\r\n",
      "layer {\r\n",
      "  name: \"relu1_2\"\r\n",
      "  type: \"ReLU\"\r\n",
      "  bottom: \"conv1_2_BN\"\r\n",
      "  top: \"conv1_2_BN\"\r\n",
      "}\r\n",
      "layer {\r\n",
      "  name: \"conv1_3\"\r\n",
      "  type: \"Convolution\"\r\n",
      "  bottom: \"conv1_2_BN\"\r\n",
      "  top: \"conv1_3\"\r\n",
      "  param {\r\n",
      "    decay_mult: 1.0\r\n",
      "  }\r\n",
      "  param {\r\n",
      "    decay_mult: 0.0\r\n",
      "  }\r\n",
      "  convolution_param {\r\n",
      "    num_output: 256\r\n",
      "    pad: 1\r\n",
      "    kernel_size: 3\r\n",
      "    weight_filler {\r\n",
      "      type: \"msra\"\r\n",
      "      std: 0.038\r\n",
      "    }\r\n",
      "  }\r\n",
      "}\r\n",
      "layer {\r\n",
      "  name: \"conv1_3_BN\"\r\n",
      "  type: \"BN\"\r\n",
      "  bottom: \"conv1_3\"\r\n",
      "  top: \"conv1_3_BN\"\r\n",
      "  param {\r\n",
      "    lr_mult: 1\r\n",
      "    decay_mult: 1\r\n",
      "  }\r\n",
      "  param {\r\n",
      "    lr_mult: 2\r\n",
      "    decay_mult: 0\r\n",
      "  }\r\n",
      "  bn_param {\r\n",
      "    scale_filler {\r\n",
      "      type: \"constant\"\r\n",
      "      value: 1.0000001\r\n",
      "    }\r\n",
      "    shift_filler {\r\n",
      "      type: \"constant\"\r\n",
      "      value: 1e-07\r\n",
      "    }\r\n",
      "  }\r\n",
      "}\r\n",
      "layer {\r\n",
      "  name: \"relu1_3\"\r\n",
      "  type: \"ReLU\"\r\n",
      "  bottom: \"conv1_3_BN\"\r\n",
      "  top: \"conv1_3_BN\"\r\n",
      "}\r\n",
      "layer {\r\n",
      "  name: \"conv1_4\"\r\n",
      "  type: \"Convolution\"\r\n",
      "  bottom: \"conv1_3_BN\"\r\n",
      "  top: \"conv1_4\"\r\n",
      "  param {\r\n",
      "    decay_mult: 1.0\r\n",
      "  }\r\n",
      "  param {\r\n",
      "    decay_mult: 0.0\r\n",
      "  }\r\n",
      "  convolution_param {\r\n",
      "    num_output: 256\r\n",
      "    pad: 1\r\n",
      "    kernel_size: 3\r\n",
      "    weight_filler {\r\n",
      "      type: \"msra\"\r\n",
      "      std: 0.028\r\n",
      "    }\r\n",
      "  }\r\n",
      "}\r\n",
      "layer {\r\n",
      "  name: \"conv1_4_BN\"\r\n",
      "  type: \"BN\"\r\n",
      "  bottom: \"conv1_4\"\r\n",
      "  top: \"conv1_4_BN\"\r\n",
      "  param {\r\n",
      "    lr_mult: 1\r\n",
      "    decay_mult: 1\r\n",
      "  }\r\n",
      "  param {\r\n",
      "    lr_mult: 2\r\n",
      "    decay_mult: 0\r\n",
      "  }\r\n",
      "  bn_param {\r\n",
      "    scale_filler {\r\n",
      "      type: \"constant\"\r\n",
      "      value: 1.0000001\r\n",
      "    }\r\n",
      "    shift_filler {\r\n",
      "      type: \"constant\"\r\n",
      "      value: 1e-07\r\n",
      "    }\r\n",
      "  }\r\n",
      "}\r\n",
      "layer {\r\n",
      "  name: \"relu1_4\"\r\n",
      "  type: \"ReLU\"\r\n",
      "  bottom: \"conv1_4_BN\"\r\n",
      "  top: \"conv1_4_BN\"\r\n",
      "}\r\n",
      "layer {\r\n",
      "  name: \"conv1_5\"\r\n",
      "  type: \"Convolution\"\r\n",
      "  bottom: \"conv1_4_BN\"\r\n",
      "  top: \"conv1_5\"\r\n",
      "  param {\r\n",
      "    decay_mult: 1.0\r\n",
      "  }\r\n",
      "  param {\r\n",
      "    decay_mult: 0.0\r\n",
      "  }\r\n",
      "  convolution_param {\r\n",
      "    num_output: 256\r\n",
      "    pad: 1\r\n",
      "    kernel_size: 3\r\n",
      "    weight_filler {\r\n",
      "      type: \"msra\"\r\n",
      "      std: 0.038\r\n",
      "    }\r\n",
      "  }\r\n",
      "}\r\n",
      "layer {\r\n",
      "  name: \"conv1_5_BN\"\r\n",
      "  type: \"BN\"\r\n",
      "  bottom: \"conv1_5\"\r\n",
      "  top: \"conv1_5_BN\"\r\n",
      "  param {\r\n",
      "    lr_mult: 1\r\n",
      "    decay_mult: 1\r\n",
      "  }\r\n",
      "  param {\r\n",
      "    lr_mult: 2\r\n",
      "    decay_mult: 0\r\n",
      "  }\r\n",
      "  bn_param {\r\n",
      "    scale_filler {\r\n",
      "      type: \"constant\"\r\n",
      "      value: 1.0000001\r\n",
      "    }\r\n",
      "    shift_filler {\r\n",
      "      type: \"constant\"\r\n",
      "      value: 1e-07\r\n",
      "    }\r\n",
      "  }\r\n",
      "}\r\n",
      "layer {\r\n",
      "  name: \"relu1_5\"\r\n",
      "  type: \"ReLU\"\r\n",
      "  bottom: \"conv1_5_BN\"\r\n",
      "  top: \"conv1_5_BN\"\r\n",
      "}\r\n",
      "layer {\r\n",
      "  name: \"conv1_6\"\r\n",
      "  type: \"Convolution\"\r\n",
      "  bottom: \"conv1_5_BN\"\r\n",
      "  top: \"conv1_6\"\r\n",
      "  param {\r\n",
      "    decay_mult: 1.0\r\n",
      "  }\r\n",
      "  param {\r\n",
      "    decay_mult: 0.0\r\n",
      "  }\r\n",
      "  convolution_param {\r\n",
      "    num_output: 256\r\n",
      "    pad: 1\r\n",
      "    kernel_size: 3\r\n",
      "    weight_filler {\r\n",
      "      type: \"msra\"\r\n",
      "      std: 0.028\r\n",
      "    }\r\n",
      "  }\r\n",
      "}\r\n",
      "layer {\r\n",
      "  name: \"conv1_6_BN\"\r\n",
      "  type: \"BN\"\r\n",
      "  bottom: \"conv1_6\"\r\n",
      "  top: \"conv1_6_BN\"\r\n",
      "  param {\r\n",
      "    lr_mult: 1\r\n",
      "    decay_mult: 1\r\n",
      "  }\r\n",
      "  param {\r\n",
      "    lr_mult: 2\r\n",
      "    decay_mult: 0\r\n",
      "  }\r\n",
      "  bn_param {\r\n",
      "    scale_filler {\r\n",
      "      type: \"constant\"\r\n",
      "      value: 1.0000001\r\n",
      "    }\r\n",
      "    shift_filler {\r\n",
      "      type: \"constant\"\r\n",
      "      value: 1e-07\r\n",
      "    }\r\n",
      "  }\r\n",
      "}\r\n",
      "layer {\r\n",
      "  name: \"relu1_6\"\r\n",
      "  type: \"ReLU\"\r\n",
      "  bottom: \"conv1_6_BN\"\r\n",
      "  top: \"conv1_6_BN\"\r\n",
      "}\r\n",
      "layer {\r\n",
      "  name: \"conv1_7\"\r\n",
      "  type: \"Convolution\"\r\n",
      "  bottom: \"conv1_6_BN\"\r\n",
      "  top: \"conv1_7\"\r\n",
      "  param {\r\n",
      "    decay_mult: 1.0\r\n",
      "  }\r\n",
      "  param {\r\n",
      "    decay_mult: 0.0\r\n",
      "  }\r\n",
      "  convolution_param {\r\n",
      "    num_output: 256\r\n",
      "    pad: 1\r\n",
      "    kernel_size: 3\r\n",
      "    weight_filler {\r\n",
      "      type: \"msra\"\r\n",
      "      std: 0.038\r\n",
      "    }\r\n",
      "  }\r\n",
      "}\r\n",
      "layer {\r\n",
      "  name: \"conv1_7_BN\"\r\n",
      "  type: \"BN\"\r\n",
      "  bottom: \"conv1_7\"\r\n",
      "  top: \"conv1_7_BN\"\r\n",
      "  param {\r\n",
      "    lr_mult: 1\r\n",
      "    decay_mult: 1\r\n",
      "  }\r\n",
      "  param {\r\n",
      "    lr_mult: 2\r\n",
      "    decay_mult: 0\r\n",
      "  }\r\n",
      "  bn_param {\r\n",
      "    scale_filler {\r\n",
      "      type: \"constant\"\r\n",
      "      value: 1.0000001\r\n",
      "    }\r\n",
      "    shift_filler {\r\n",
      "      type: \"constant\"\r\n",
      "      value: 1e-07\r\n",
      "    }\r\n",
      "  }\r\n",
      "}\r\n",
      "layer {\r\n",
      "  name: \"relu1_7\"\r\n",
      "  type: \"ReLU\"\r\n",
      "  bottom: \"conv1_7_BN\"\r\n",
      "  top: \"conv1_7_BN\"\r\n",
      "}\r\n",
      "layer {\r\n",
      "  name: \"conv1_8\"\r\n",
      "  type: \"Convolution\"\r\n",
      "  bottom: \"conv1_7_BN\"\r\n",
      "  top: \"conv1_8\"\r\n",
      "  param {\r\n",
      "    decay_mult: 1.0\r\n",
      "  }\r\n",
      "  param {\r\n",
      "    decay_mult: 0.0\r\n",
      "  }\r\n",
      "  convolution_param {\r\n",
      "    num_output: 256\r\n",
      "    pad: 1\r\n",
      "    kernel_size: 3\r\n",
      "    weight_filler {\r\n",
      "      type: \"msra\"\r\n",
      "      std: 0.028\r\n",
      "    }\r\n",
      "  }\r\n",
      "}\r\n",
      "layer {\r\n",
      "  name: \"conv1_8_BN\"\r\n",
      "  type: \"BN\"\r\n",
      "  bottom: \"conv1_8\"\r\n",
      "  top: \"conv1_8_BN\"\r\n",
      "  param {\r\n",
      "    lr_mult: 1\r\n",
      "    decay_mult: 1\r\n",
      "  }\r\n",
      "  param {\r\n",
      "    lr_mult: 2\r\n",
      "    decay_mult: 0\r\n",
      "  }\r\n",
      "  bn_param {\r\n",
      "    scale_filler {\r\n",
      "      type: \"constant\"\r\n",
      "      value: 1.0000001\r\n",
      "    }\r\n",
      "    shift_filler {\r\n",
      "      type: \"constant\"\r\n",
      "      value: 1e-07\r\n",
      "    }\r\n",
      "  }\r\n",
      "}\r\n",
      "layer {\r\n",
      "  name: \"relu1_8\"\r\n",
      "  type: \"ReLU\"\r\n",
      "  bottom: \"conv1_8_BN\"\r\n",
      "  top: \"conv1_8_BN\"\r\n",
      "}\r\n",
      "layer {\r\n",
      "  name: \"pool1\"\r\n",
      "  type: \"Pooling\"\r\n",
      "  bottom: \"conv1_8_BN\"\r\n",
      "  top: \"pool1\"\r\n",
      "  pooling_param {\r\n",
      "    pool: MAX\r\n",
      "    kernel_size: 3\r\n",
      "    stride: 2\r\n",
      "    pad: 2\r\n",
      "  }\r\n",
      "}\r\n",
      "layer {\r\n",
      "  name: \"conv2_1\"\r\n",
      "  type: \"Convolution\"\r\n",
      "  bottom: \"pool1\"\r\n",
      "  top: \"conv2_1\"\r\n",
      "  param {\r\n",
      "    decay_mult: 1.0\r\n",
      "  }\r\n",
      "  param {\r\n",
      "    decay_mult: 0.0\r\n",
      "  }\r\n",
      "  convolution_param {\r\n",
      "    num_output: 256\r\n",
      "    pad: 1\r\n",
      "    kernel_size: 3\r\n",
      "    weight_filler {\r\n",
      "      type: \"msra\"\r\n",
      "      std: 0.024\r\n",
      "    }\r\n",
      "  }\r\n",
      "}\r\n",
      "layer {\r\n",
      "  name: \"conv2_1_BN\"\r\n",
      "  type: \"BN\"\r\n",
      "  bottom: \"conv2_1\"\r\n",
      "  top: \"conv2_1_BN\"\r\n",
      "  param {\r\n",
      "    lr_mult: 1\r\n",
      "    decay_mult: 1\r\n",
      "  }\r\n",
      "  param {\r\n",
      "    lr_mult: 2\r\n",
      "    decay_mult: 0\r\n",
      "  }\r\n",
      "  bn_param {\r\n",
      "    scale_filler {\r\n",
      "      type: \"constant\"\r\n",
      "      value: 1.0000001\r\n",
      "    }\r\n",
      "    shift_filler {\r\n",
      "      type: \"constant\"\r\n",
      "      value: 1e-07\r\n",
      "    }\r\n",
      "  }\r\n",
      "}\r\n",
      "layer {\r\n",
      "  name: \"relu2_1\"\r\n",
      "  type: \"ReLU\"\r\n",
      "  bottom: \"conv2_1_BN\"\r\n",
      "  top: \"conv2_1_BN\"\r\n",
      "}\r\n",
      "layer {\r\n",
      "  name: \"conv2_2\"\r\n",
      "  type: \"Convolution\"\r\n",
      "  bottom: \"conv2_1_BN\"\r\n",
      "  top: \"conv2_2\"\r\n",
      "  param {\r\n",
      "    decay_mult: 1.0\r\n",
      "  }\r\n",
      "  param {\r\n",
      "    decay_mult: 0.0\r\n",
      "  }\r\n",
      "  convolution_param {\r\n",
      "    num_output: 256\r\n",
      "    pad: 1\r\n",
      "    kernel_size: 3\r\n",
      "    weight_filler {\r\n",
      "      type: \"msra\"\r\n",
      "      std: 0.024\r\n",
      "    }\r\n",
      "  }\r\n",
      "}\r\n",
      "layer {\r\n",
      "  name: \"conv2_2_BN\"\r\n",
      "  type: \"BN\"\r\n",
      "  bottom: \"conv2_2\"\r\n",
      "  top: \"conv2_2_BN\"\r\n",
      "  param {\r\n",
      "    lr_mult: 1\r\n",
      "    decay_mult: 1\r\n",
      "  }\r\n",
      "  param {\r\n",
      "    lr_mult: 2\r\n",
      "    decay_mult: 0\r\n",
      "  }\r\n",
      "  bn_param {\r\n",
      "    scale_filler {\r\n",
      "      type: \"constant\"\r\n",
      "      value: 1.0000001\r\n",
      "    }\r\n",
      "    shift_filler {\r\n",
      "      type: \"constant\"\r\n",
      "      value: 1e-07\r\n",
      "    }\r\n",
      "  }\r\n",
      "}\r\n",
      "layer {\r\n",
      "  name: \"relu2_2\"\r\n",
      "  type: \"ReLU\"\r\n",
      "  bottom: \"conv2_2_BN\"\r\n",
      "  top: \"conv2_2_BN\"\r\n",
      "}\r\n",
      "layer {\r\n",
      "  name: \"pool2\"\r\n",
      "  type: \"Pooling\"\r\n",
      "  bottom: \"conv2_2_BN\"\r\n",
      "  top: \"pool2\"\r\n",
      "  pooling_param {\r\n",
      "    pool: MAX\r\n",
      "    kernel_size: 3\r\n",
      "    stride: 4\r\n",
      "  }\r\n",
      "}\r\n",
      "layer {\r\n",
      "  name: \"conv3_1\"\r\n",
      "  type: \"Convolution\"\r\n",
      "  bottom: \"pool2\"\r\n",
      "  top: \"conv3_1\"\r\n",
      "  param {\r\n",
      "    decay_mult: 1.0\r\n",
      "  }\r\n",
      "  param {\r\n",
      "    decay_mult: 0.0\r\n",
      "  }\r\n",
      "  convolution_param {\r\n",
      "    num_output: 192\r\n",
      "    pad: 2\r\n",
      "    kernel_size: 5\r\n",
      "    weight_filler {\r\n",
      "      type: \"msra\"\r\n",
      "      std: 0.034\r\n",
      "    }\r\n",
      "  }\r\n",
      "}\r\n",
      "layer {\r\n",
      "  name: \"conv3_1_BN\"\r\n",
      "  type: \"BN\"\r\n",
      "  bottom: \"conv3_1\"\r\n",
      "  top: \"conv3_1_BN\"\r\n",
      "  param {\r\n",
      "    lr_mult: 1\r\n",
      "    decay_mult: 1\r\n",
      "  }\r\n",
      "  param {\r\n",
      "    lr_mult: 2\r\n",
      "    decay_mult: 0\r\n",
      "  }\r\n",
      "  bn_param {\r\n",
      "    scale_filler {\r\n",
      "      type: \"constant\"\r\n",
      "      value: 1.0000001\r\n",
      "    }\r\n",
      "    shift_filler {\r\n",
      "      type: \"constant\"\r\n",
      "      value: 1e-07\r\n",
      "    }\r\n",
      "  }\r\n",
      "}\r\n",
      "\r\n",
      "layer {\r\n",
      "  name: \"conv3_1a\"\r\n",
      "  type: \"Convolution\"\r\n",
      "  bottom: \"pool2\"\r\n",
      "  top: \"conv3_1a\"\r\n",
      "  param {\r\n",
      "    decay_mult: 1.0\r\n",
      "  }\r\n",
      "  param {\r\n",
      "    decay_mult: 0.0\r\n",
      "  }\r\n",
      "  convolution_param {\r\n",
      "    num_output: 192\r\n",
      "    pad: 2\r\n",
      "    kernel_size: 5\r\n",
      "    weight_filler {\r\n",
      "      type: \"msra\"\r\n",
      "      std: 0.034\r\n",
      "    }\r\n",
      "  }\r\n",
      "}\r\n",
      "layer {\r\n",
      "  name: \"conv3_1_BNa\"\r\n",
      "  type: \"BN\"\r\n",
      "  bottom: \"conv3_1a\"\r\n",
      "  top: \"conv3_1_BNa\"\r\n",
      "  param {\r\n",
      "    lr_mult: 1\r\n",
      "    decay_mult: 1\r\n",
      "  }\r\n",
      "  param {\r\n",
      "    lr_mult: 2\r\n",
      "    decay_mult: 0\r\n",
      "  }\r\n",
      "  bn_param {\r\n",
      "    scale_filler {\r\n",
      "      type: \"constant\"\r\n",
      "      value: 1.0000001\r\n",
      "    }\r\n",
      "    shift_filler {\r\n",
      "      type: \"constant\"\r\n",
      "      value: 1e-07\r\n",
      "    }\r\n",
      "  }\r\n",
      "}\r\n",
      "\r\n",
      "layer {\r\n",
      "name: \"conv3_1_maxout\"\r\n",
      "bottom: \"conv3_1_BN\"\r\n",
      "bottom: \"conv3_1_BNa\"\r\n",
      "top: \"conv3_1_maxout\"\r\n",
      "type: \"Eltwise\"\r\n",
      "eltwise_param {\r\n",
      "  operation: MAX\r\n",
      "}\r\n",
      "\r\n",
      "}\r\n",
      "layer {\r\n",
      "  name: \"conv3_2\"\r\n",
      "  type: \"Convolution\"\r\n",
      "  bottom: \"conv3_1_maxout\"\r\n",
      "  top: \"conv3_2\"\r\n",
      "  param {\r\n",
      "    decay_mult: 1.0\r\n",
      "  }\r\n",
      "  param {\r\n",
      "    decay_mult: 0.0\r\n",
      "  }\r\n",
      "  convolution_param {\r\n",
      "    num_output: 64\r\n",
      "    pad: 2\r\n",
      "    kernel_size: 5\r\n",
      "    weight_filler {\r\n",
      "      type: \"msra\"\r\n",
      "      std: 0.032\r\n",
      "    }\r\n",
      "  }\r\n",
      "}\r\n",
      "layer {\r\n",
      "  name: \"conv3_2_BN\"\r\n",
      "  type: \"BN\"\r\n",
      "  bottom: \"conv3_2\"\r\n",
      "  top: \"conv3_2_BN\"\r\n",
      "  param {\r\n",
      "    lr_mult: 1\r\n",
      "    decay_mult: 1\r\n",
      "  }\r\n",
      "  param {\r\n",
      "    lr_mult: 2\r\n",
      "    decay_mult: 0\r\n",
      "  }\r\n",
      "  bn_param {\r\n",
      "    scale_filler {\r\n",
      "      type: \"constant\"\r\n",
      "      value: 1.0000001\r\n",
      "    }\r\n",
      "    shift_filler {\r\n",
      "      type: \"constant\"\r\n",
      "      value: 1e-07\r\n",
      "    }\r\n",
      "  }\r\n",
      "}\r\n",
      "layer {\r\n",
      "  name: \"conv3_2a\"\r\n",
      "  type: \"Convolution\"\r\n",
      "  bottom: \"conv3_1_maxout\"\r\n",
      "  top: \"conv3_2a\"\r\n",
      "  param {\r\n",
      "    decay_mult: 1.0\r\n",
      "  }\r\n",
      "  param {\r\n",
      "    decay_mult: 0.0\r\n",
      "  }\r\n",
      "  convolution_param {\r\n",
      "    num_output: 64\r\n",
      "    pad: 2\r\n",
      "    kernel_size: 5\r\n",
      "    weight_filler {\r\n",
      "      type: \"msra\"\r\n",
      "      std: 0.032\r\n",
      "    }\r\n",
      "  }\r\n",
      "}\r\n",
      "layer {\r\n",
      "  name: \"conv3_2_BNa\"\r\n",
      "  type: \"BN\"\r\n",
      "  bottom: \"conv3_2a\"\r\n",
      "  top: \"conv3_2_BNa\"\r\n",
      "  param {\r\n",
      "    lr_mult: 1\r\n",
      "    decay_mult: 1\r\n",
      "  }\r\n",
      "  param {\r\n",
      "    lr_mult: 2\r\n",
      "    decay_mult: 0\r\n",
      "  }\r\n",
      "  bn_param {\r\n",
      "    scale_filler {\r\n",
      "      type: \"constant\"\r\n",
      "      value: 1.0000001\r\n",
      "    }\r\n",
      "    shift_filler {\r\n",
      "      type: \"constant\"\r\n",
      "      value: 1e-07\r\n",
      "    }\r\n",
      "  }\r\n",
      "}\r\n",
      "layer {\r\n",
      "name: \"conv3_2_maxout\"\r\n",
      "bottom: \"conv3_2_BN\"\r\n",
      "bottom: \"conv3_2_BNa\"\r\n",
      "top: \"conv3_2_maxout\"\r\n",
      "type: \"Eltwise\"\r\n",
      "eltwise_param {\r\n",
      "  operation: MAX\r\n",
      "}\r\n",
      "}\r\n",
      "layer {\r\n",
      "  name: \"pool4\"\r\n",
      "  type: \"Pooling\"\r\n",
      "  bottom: \"conv3_2_maxout\"\r\n",
      "  top: \"pool4\"\r\n",
      "  pooling_param {\r\n",
      "    pool: MAX\r\n",
      "    global_pooling: true\r\n",
      "  }\r\n",
      "}\r\n",
      "layer {\r\n",
      "  name: \"conv_clf\"\r\n",
      "  type: \"Convolution\"\r\n",
      "  bottom: \"pool4\"\r\n",
      "  top: \"conv_clf\"\r\n",
      "  param {\r\n",
      "    decay_mult: 1.0\r\n",
      "  }\r\n",
      "  param {\r\n",
      "    decay_mult: 0.0\r\n",
      "  }\r\n",
      "  convolution_param {\r\n",
      "    num_output: 10\r\n",
      "    kernel_size: 1\r\n",
      "    weight_filler {\r\n",
      "      type: \"gaussian\"\r\n",
      "      std: 0.0015\r\n",
      "    }\r\n",
      "  }\r\n",
      "}\r\n",
      "\r\n",
      "layer {\r\n",
      "  name: \"loss\"\r\n",
      "  type: \"SoftmaxWithLoss\"\r\n",
      "  bottom: \"conv_clf\"\r\n",
      "  bottom: \"label\"\r\n",
      "  top: \"loss\"\r\n",
      "}\r\n"
     ]
    }
   ],
   "source": [
    "!cat examples/cifar10/bn_auto_train_xudongdeep_cifar_maxout.prototxt"
   ]
  },
  {
   "cell_type": "markdown",
   "metadata": {},
   "source": [
    "Now let's see the learning parameters, which are also written as a `prototxt` file. We're using SGD with momentum, weight decay, and a specific learning rate schedule."
   ]
  },
  {
   "cell_type": "code",
   "execution_count": 5,
   "metadata": {
    "collapsed": false
   },
   "outputs": [
    {
     "name": "stdout",
     "output_type": "stream",
     "text": [
      "test_net: \"examples/cifar10/bn_auto_test_xudongdeep_cifar_maxout.prototxt\"\r\n",
      "train_net: \"examples/cifar10/bn_auto_train_xudongdeep_cifar_maxout.prototxt\"\r\n",
      "display: 40\r\n",
      "average_loss: 40\r\n",
      "test_iter: 250\r\n",
      "test_interval: 2000\r\n",
      "\r\n",
      "base_lr: 0.01\r\n",
      "gamma: 0.1\r\n",
      "momentum: 0.9\r\n",
      "weight_decay: 0.0005\r\n",
      "\r\n",
      "lr_policy: \"multistep\"\r\n",
      "#stepvalue: 50000\r\n",
      "stepvalue: 70000\r\n",
      "stepvalue: 80000\r\n",
      "max_iter: 85000\r\n",
      "clip_gradients: 10.0\r\n",
      "snapshot: 20000\r\n",
      "snapshot_prefix: \"examples/cifar10/bn_cifar10_xudong_maxout\"\r\n",
      "solver_mode: GPU\r\n",
      "solver_type: SGD\r\n",
      "random_seed: 1700\r\n"
     ]
    }
   ],
   "source": [
    "!cat examples/cifar10/bn_cifar_xudongdeep_maxout_autosolver.prototxt"
   ]
  },
  {
   "cell_type": "markdown",
   "metadata": {},
   "source": [
    "Let's pick a device and load the solver. We'll use SGD (with momentum), but Adagrad and Nesterov's accelerated gradient are also available."
   ]
  },
  {
   "cell_type": "code",
   "execution_count": 3,
   "metadata": {
    "collapsed": false
   },
   "outputs": [],
   "source": [
    "caffe.set_device(0)\n",
    "caffe.set_mode_gpu()\n",
    "solver = caffe.SGDSolver('/home/old-ufo/caffe-train/gln-cao/polysolver.prototxt')"
   ]
  },
  {
   "cell_type": "markdown",
   "metadata": {},
   "source": [
    "To get an idea of the architecture of our net, we can check the dimensions of the intermediate features (blobs) and parameters (these will also be useful to refer to when manipulating data later)."
   ]
  },
  {
   "cell_type": "code",
   "execution_count": 5,
   "metadata": {
    "collapsed": false
   },
   "outputs": [
    {
     "name": "stdout",
     "output_type": "stream",
     "text": [
      "(256, 3, 3, 3)\n",
      "(256, 3, 3, 3)\n"
     ]
    }
   ],
   "source": []
  },
  {
   "cell_type": "code",
   "execution_count": 5,
   "metadata": {
    "collapsed": false,
    "scrolled": true
   },
   "outputs": [
    {
     "data": {
      "text/plain": [
       "[('data', (1, 3, 227, 227)),\n",
       " ('label', (1,)),\n",
       " ('label_data_1_split_0', (1,)),\n",
       " ('label_data_1_split_1', (1,)),\n",
       " ('label_data_1_split_2', (1,)),\n",
       " ('label_data_1_split_3', (1,)),\n",
       " ('label_data_1_split_4', (1,)),\n",
       " ('label_data_1_split_5', (1,)),\n",
       " ('label_data_1_split_6', (1,)),\n",
       " ('label_data_1_split_7', (1,)),\n",
       " ('label_data_1_split_8', (1,)),\n",
       " ('label_data_1_split_9', (1,)),\n",
       " ('label_data_1_split_10', (1,)),\n",
       " ('label_data_1_split_11', (1,)),\n",
       " ('conv1_1', (1, 32, 221, 221)),\n",
       " ('conv1_1_BN', (1, 32, 221, 221)),\n",
       " ('conv1_2', (1, 32, 221, 221)),\n",
       " ('conv1_2_BN', (1, 32, 221, 221)),\n",
       " ('conv1_3', (1, 32, 221, 221)),\n",
       " ('conv1_3_BN', (1, 32, 221, 221)),\n",
       " ('conv1_4', (1, 32, 221, 221)),\n",
       " ('conv1_4_BN', (1, 32, 221, 221)),\n",
       " ('conv1_5', (1, 48, 221, 221)),\n",
       " ('conv1_5_BN', (1, 48, 221, 221)),\n",
       " ('pool1_3x3_s2', (1, 48, 110, 110)),\n",
       " ('conv2_3x3_reduce', (1, 64, 110, 110)),\n",
       " ('conv2_3x3_reduce_BN', (1, 64, 110, 110)),\n",
       " ('conv2_3x3', (1, 192, 110, 110)),\n",
       " ('conv2_3x3_BN', (1, 192, 110, 110)),\n",
       " ('conv2_1_3x3_reduce', (1, 64, 110, 110)),\n",
       " ('conv2_1_3x3_reduce_BN', (1, 64, 110, 110)),\n",
       " ('conv2_1_3x3', (1, 192, 110, 110)),\n",
       " ('conv2_1_3x3_BN', (1, 192, 110, 110)),\n",
       " ('pool2_3x3_s2', (1, 192, 55, 55)),\n",
       " ('pool2_3x3_s2_pool2_3x3_s2_0_split_0', (1, 192, 55, 55)),\n",
       " ('pool2_3x3_s2_pool2_3x3_s2_0_split_1', (1, 192, 55, 55)),\n",
       " ('pool2_3x3_s2_pool2_3x3_s2_0_split_2', (1, 192, 55, 55)),\n",
       " ('inception_3a_1x1', (1, 64, 55, 55)),\n",
       " ('inception_3a_1x1_BN', (1, 64, 55, 55)),\n",
       " ('inception_3a_3x3_reduce', (1, 96, 55, 55)),\n",
       " ('inception_3a_3x3_reduce_BN', (1, 96, 55, 55)),\n",
       " ('inception_3a_3x3', (1, 128, 55, 55)),\n",
       " ('inception_3a_3x3_BN', (1, 128, 55, 55)),\n",
       " ('inception_3a_pool', (1, 192, 55, 55)),\n",
       " ('inception_3a_pool_proj', (1, 32, 55, 55)),\n",
       " ('inception_3a_pool_proj_BN', (1, 32, 55, 55)),\n",
       " ('inception_3a_output', (1, 224, 55, 55)),\n",
       " ('inception_3a_output_inception_3a_output_0_split_0', (1, 224, 55, 55)),\n",
       " ('inception_3a_output_inception_3a_output_0_split_1', (1, 224, 55, 55)),\n",
       " ('inception_3a_output_inception_3a_output_0_split_2', (1, 224, 55, 55)),\n",
       " ('inception_3a_output_inception_3a_output_0_split_3', (1, 224, 55, 55)),\n",
       " ('loss0_ave_pool', (1, 224, 17, 17)),\n",
       " ('loss0_conv', (1, 128, 17, 17)),\n",
       " ('loss0_conv_BN', (1, 128, 17, 17)),\n",
       " ('loss0_fc', (1, 1024)),\n",
       " ('loss0_fc_BN', (1, 1024, 1, 1)),\n",
       " ('loss0_classifier', (1, 1000)),\n",
       " ('loss0_classifier_loss0_classifier_0_split_0', (1, 1000)),\n",
       " ('loss0_classifier_loss0_classifier_0_split_1', (1, 1000)),\n",
       " ('loss0_classifier_loss0_classifier_0_split_2', (1, 1000)),\n",
       " ('loss0_loss0', ()),\n",
       " ('loss0_acc', ()),\n",
       " ('loss0_top-5', ()),\n",
       " ('inception_3b_1x1', (1, 128, 55, 55)),\n",
       " ('inception_3b_1x1_BN', (1, 128, 55, 55)),\n",
       " ('inception_3b_3x3_reduce', (1, 128, 55, 55)),\n",
       " ('inception_3b_3x3_reduce_BN', (1, 128, 55, 55)),\n",
       " ('inception_3b_3x3', (1, 192, 55, 55)),\n",
       " ('inception_3b_3x3_BN', (1, 192, 55, 55)),\n",
       " ('inception_3b_pool', (1, 224, 55, 55)),\n",
       " ('inception_3b_pool_proj', (1, 64, 55, 55)),\n",
       " ('inception_3b_pool_proj_BN', (1, 64, 55, 55)),\n",
       " ('inception_3b_output', (1, 384, 55, 55)),\n",
       " ('pool3_3x3_s2', (1, 384, 27, 27)),\n",
       " ('pool3_3x3_s2_pool3_3x3_s2_0_split_0', (1, 384, 27, 27)),\n",
       " ('pool3_3x3_s2_pool3_3x3_s2_0_split_1', (1, 384, 27, 27)),\n",
       " ('pool3_3x3_s2_pool3_3x3_s2_0_split_2', (1, 384, 27, 27)),\n",
       " ('inception_4a_1x1', (1, 192, 27, 27)),\n",
       " ('inception_4a_1x1_BN', (1, 192, 27, 27)),\n",
       " ('inception_4a_3x3_reduce', (1, 96, 27, 27)),\n",
       " ('inception_4a_3x3_reduce_BN', (1, 96, 27, 27)),\n",
       " ('inception_4a_3x3', (1, 208, 27, 27)),\n",
       " ('inception_4a_3x3_BN', (1, 208, 27, 27)),\n",
       " ('inception_4a_pool', (1, 384, 27, 27)),\n",
       " ('inception_4a_pool_proj', (1, 64, 27, 27)),\n",
       " ('inception_4a_pool_proj_BN', (1, 64, 27, 27)),\n",
       " ('inception_4a_output', (1, 464, 27, 27)),\n",
       " ('inception_4a_output_inception_4a_output_0_split_0', (1, 464, 27, 27)),\n",
       " ('inception_4a_output_inception_4a_output_0_split_1', (1, 464, 27, 27)),\n",
       " ('inception_4a_output_inception_4a_output_0_split_2', (1, 464, 27, 27)),\n",
       " ('inception_4a_output_inception_4a_output_0_split_3', (1, 464, 27, 27)),\n",
       " ('loss1_ave_pool', (1, 464, 9, 9)),\n",
       " ('loss1_conv', (1, 128, 9, 9)),\n",
       " ('loss1_conv_BN', (1, 128, 9, 9)),\n",
       " ('loss1_fc', (1, 1024)),\n",
       " ('loss1_fc_BN', (1, 1024, 1, 1)),\n",
       " ('loss1_classifier', (1, 1000)),\n",
       " ('loss1_classifier_loss1_classifier_0_split_0', (1, 1000)),\n",
       " ('loss1_classifier_loss1_classifier_0_split_1', (1, 1000)),\n",
       " ('loss1_classifier_loss1_classifier_0_split_2', (1, 1000)),\n",
       " ('loss1_loss1', ()),\n",
       " ('loss1_acc', ()),\n",
       " ('loss1_top-5', ()),\n",
       " ('inception_4b_1x1', (1, 160, 27, 27)),\n",
       " ('inception_4b_1x1_BN', (1, 160, 27, 27)),\n",
       " ('inception_4b_3x3_reduce', (1, 112, 27, 27)),\n",
       " ('inception_4b_3x3_reduce_BN', (1, 112, 27, 27)),\n",
       " ('inception_4b_3x3', (1, 224, 27, 27)),\n",
       " ('inception_4b_3x3_BN', (1, 224, 27, 27)),\n",
       " ('inception_4b_pool', (1, 464, 27, 27)),\n",
       " ('inception_4b_pool_proj', (1, 64, 27, 27)),\n",
       " ('inception_4b_pool_proj_BN', (1, 64, 27, 27)),\n",
       " ('inception_4b_output', (1, 448, 27, 27)),\n",
       " ('inception_4b_output_inception_4b_output_0_split_0', (1, 448, 27, 27)),\n",
       " ('inception_4b_output_inception_4b_output_0_split_1', (1, 448, 27, 27)),\n",
       " ('inception_4b_output_inception_4b_output_0_split_2', (1, 448, 27, 27)),\n",
       " ('inception_4c_1x1', (1, 128, 27, 27)),\n",
       " ('inception_4c_1x1_BN', (1, 128, 27, 27)),\n",
       " ('inception_4c_3x3_reduce', (1, 128, 27, 27)),\n",
       " ('inception_4c_3x3_reduce_BN', (1, 128, 27, 27)),\n",
       " ('inception_4c_3x3', (1, 256, 27, 27)),\n",
       " ('inception_4c_3x3_BN', (1, 256, 27, 27)),\n",
       " ('inception_4c_pool', (1, 448, 27, 27)),\n",
       " ('inception_4c_pool_proj', (1, 64, 27, 27)),\n",
       " ('inception_4c_pool_proj_BN', (1, 64, 27, 27)),\n",
       " ('inception_4c_output', (1, 448, 27, 27)),\n",
       " ('inception_4c_output_inception_4c_output_0_split_0', (1, 448, 27, 27)),\n",
       " ('inception_4c_output_inception_4c_output_0_split_1', (1, 448, 27, 27)),\n",
       " ('inception_4c_output_inception_4c_output_0_split_2', (1, 448, 27, 27)),\n",
       " ('inception_4d_1x1', (1, 112, 27, 27)),\n",
       " ('inception_4d_1x1_BN', (1, 112, 27, 27)),\n",
       " ('inception_4d_3x3_reduce', (1, 144, 27, 27)),\n",
       " ('inception_4d_3x3_reduce_BN', (1, 144, 27, 27)),\n",
       " ('inception_4d_3x3', (1, 288, 27, 27)),\n",
       " ('inception_4d_3x3_BN', (1, 288, 27, 27)),\n",
       " ('inception_4d_pool', (1, 448, 27, 27)),\n",
       " ('inception_4d_pool_proj', (1, 64, 27, 27)),\n",
       " ('inception_4d_pool_proj_BN', (1, 64, 27, 27)),\n",
       " ('inception_4d_output', (1, 464, 27, 27)),\n",
       " ('inception_4d_output_inception_4d_output_0_split_0', (1, 464, 27, 27)),\n",
       " ('inception_4d_output_inception_4d_output_0_split_1', (1, 464, 27, 27)),\n",
       " ('loss2_ave_pool', (1, 464, 9, 9)),\n",
       " ('loss2_conv', (1, 128, 9, 9)),\n",
       " ('loss2_conv_BN', (1, 128, 9, 9)),\n",
       " ('loss2_fc', (1, 1024)),\n",
       " ('loss2_fc_BN', (1, 1024, 1, 1)),\n",
       " ('loss2_classifier', (1, 1000)),\n",
       " ('loss2_classifier_loss2_classifier_0_split_0', (1, 1000)),\n",
       " ('loss2_classifier_loss2_classifier_0_split_1', (1, 1000)),\n",
       " ('loss2_classifier_loss2_classifier_0_split_2', (1, 1000)),\n",
       " ('loss2_loss1', ()),\n",
       " ('loss2_acc', ()),\n",
       " ('loss2_top-5', ()),\n",
       " ('pool4_3x3_s2', (1, 464, 13, 13)),\n",
       " ('pool4_3x3_s2_pool4_3x3_s2_0_split_0', (1, 464, 13, 13)),\n",
       " ('pool4_3x3_s2_pool4_3x3_s2_0_split_1', (1, 464, 13, 13)),\n",
       " ('pool4_3x3_s2_pool4_3x3_s2_0_split_2', (1, 464, 13, 13)),\n",
       " ('inception_5a_1x1', (1, 256, 13, 13)),\n",
       " ('inception_5a_1x1_BN', (1, 256, 13, 13)),\n",
       " ('inception_5a_3x3_reduce', (1, 160, 13, 13)),\n",
       " ('inception_5a_3x3_reduce_BN', (1, 160, 13, 13)),\n",
       " ('inception_5a_3x3', (1, 320, 13, 13)),\n",
       " ('inception_5a_3x3_BN', (1, 320, 13, 13)),\n",
       " ('inception_5a_pool', (1, 464, 13, 13)),\n",
       " ('inception_5a_pool_proj', (1, 128, 13, 13)),\n",
       " ('inception_5a_pool_proj_BN', (1, 128, 13, 13)),\n",
       " ('inception_5a_output', (1, 704, 13, 13)),\n",
       " ('inception_5a_output_inception_5a_output_0_split_0', (1, 704, 13, 13)),\n",
       " ('inception_5a_output_inception_5a_output_0_split_1', (1, 704, 13, 13)),\n",
       " ('inception_5a_output_inception_5a_output_0_split_2', (1, 704, 13, 13)),\n",
       " ('inception_5a_output_inception_5a_output_0_split_3', (1, 704, 13, 13)),\n",
       " ('inception_5a_output_inception_5a_output_0_split_4', (1, 704, 13, 13)),\n",
       " ('inception_5b_1x1', (1, 256, 13, 13)),\n",
       " ('inception_5b_1x1_BN', (1, 256, 13, 13)),\n",
       " ('inception_5b_3x3_reduce', (1, 192, 13, 13)),\n",
       " ('inception_5b_3x3_reduce_BN', (1, 192, 13, 13)),\n",
       " ('inception_5b_3x3', (1, 256, 13, 13)),\n",
       " ('inception_5b_3x3_BN', (1, 256, 13, 13)),\n",
       " ('inception_5b_pool', (1, 704, 13, 13)),\n",
       " ('inception_5b_pool_proj', (1, 128, 13, 13)),\n",
       " ('inception_5b_pool_proj_BN', (1, 128, 13, 13)),\n",
       " ('inception_5b_output', (1, 640, 13, 13)),\n",
       " ('inception_5c_1x1', (1, 256, 13, 13)),\n",
       " ('inception_5c_1x1_BN', (1, 256, 13, 13)),\n",
       " ('inception_5c_3x3_reduce', (1, 192, 13, 13)),\n",
       " ('inception_5c_3x3_reduce_BN', (1, 192, 13, 13)),\n",
       " ('inception_5c_3x3', (1, 256, 13, 13)),\n",
       " ('inception_5c_3x3_BN', (1, 256, 13, 13)),\n",
       " ('inception_5c_pool', (1, 704, 13, 13)),\n",
       " ('inception_5c_pool_proj', (1, 128, 13, 13)),\n",
       " ('inception_5c_pool_proj_BN', (1, 128, 13, 13)),\n",
       " ('inception_5c_output', (1, 640, 13, 13)),\n",
       " ('pool5_7x7_s1', (1, 3200)),\n",
       " ('loss3_classifier', (1, 1000)),\n",
       " ('loss3_classifier_loss3_classifier_0_split_0', (1, 1000)),\n",
       " ('loss3_classifier_loss3_classifier_0_split_1', (1, 1000)),\n",
       " ('loss3_classifier_loss3_classifier_0_split_2', (1, 1000)),\n",
       " ('loss3_loss3', ()),\n",
       " ('loss3_acc', ()),\n",
       " ('loss3_top-5', ())]"
      ]
     },
     "execution_count": 5,
     "metadata": {},
     "output_type": "execute_result"
    }
   ],
   "source": [
    "# each output is (batch size, feature dim, spatial dim)\n",
    "[(k, v.data.shape) for k, v in solver.net.blobs.items()]"
   ]
  },
  {
   "cell_type": "code",
   "execution_count": 7,
   "metadata": {
    "collapsed": false
   },
   "outputs": [
    {
     "data": {
      "text/plain": [
       "[('conv1_1', (256, 3, 3, 3)),\n",
       " ('conv1_1_BN', (1, 256, 1, 1)),\n",
       " ('conv1_2', (256, 256, 3, 3)),\n",
       " ('conv1_2_BN', (1, 256, 1, 1)),\n",
       " ('conv1_3', (256, 256, 3, 3)),\n",
       " ('conv1_3_BN', (1, 256, 1, 1)),\n",
       " ('conv1_4', (256, 256, 3, 3)),\n",
       " ('conv1_4_BN', (1, 256, 1, 1)),\n",
       " ('conv1_5', (256, 256, 3, 3)),\n",
       " ('conv1_5_BN', (1, 256, 1, 1)),\n",
       " ('conv1_6', (256, 256, 3, 3)),\n",
       " ('conv1_6_BN', (1, 256, 1, 1)),\n",
       " ('conv1_7', (256, 256, 3, 3)),\n",
       " ('conv1_7_BN', (1, 256, 1, 1)),\n",
       " ('conv1_8', (256, 256, 3, 3)),\n",
       " ('conv1_8_BN', (1, 256, 1, 1)),\n",
       " ('conv2_1', (256, 256, 3, 3)),\n",
       " ('conv2_1_BN', (1, 256, 1, 1)),\n",
       " ('conv2_2', (256, 256, 3, 3)),\n",
       " ('conv2_2_BN', (1, 256, 1, 1)),\n",
       " ('conv3_1', (192, 256, 5, 5)),\n",
       " ('conv3_1_BN', (1, 192, 1, 1)),\n",
       " ('conv3_2', (64, 192, 5, 5)),\n",
       " ('conv3_2_BN', (1, 64, 1, 1)),\n",
       " ('conv_clf', (10, 64, 1, 1)),\n",
       " ('conv_clf_BN', (1, 10, 1, 1))]"
      ]
     },
     "execution_count": 7,
     "metadata": {},
     "output_type": "execute_result"
    }
   ],
   "source": [
    "# just print the weight sizes (not biases)\n",
    "[(k, v[0].data.shape) for k, v in solver.net.params.items()]\n"
   ]
  },
  {
   "cell_type": "code",
   "execution_count": null,
   "metadata": {
    "collapsed": false
   },
   "outputs": [],
   "source": [
    "print solver.net.params[k][0].data[:]\n"
   ]
  },
  {
   "cell_type": "code",
   "execution_count": 4,
   "metadata": {
    "collapsed": false
   },
   "outputs": [
    {
     "name": "stdout",
     "output_type": "stream",
     "text": [
      "conv1_1 (32, 3, 7, 7)\n",
      "conv1_1_BN (1, 32, 1, 1)\n",
      "Skip BN\n",
      "conv1_2 (32, 32, 3, 3)\n",
      "conv1_2_BN (1, 32, 1, 1)\n",
      "Skip BN\n",
      "conv1_3 (32, 32, 3, 3)\n",
      "conv1_3_BN (1, 32, 1, 1)\n",
      "Skip BN\n",
      "conv1_4 (32, 32, 3, 3)\n",
      "conv1_4_BN (1, 32, 1, 1)\n",
      "Skip BN\n",
      "conv1_5 (48, 32, 3, 3)\n",
      "conv1_5_BN (1, 48, 1, 1)\n",
      "Skip BN\n",
      "conv2_3x3_reduce (64, 48, 1, 1)\n",
      "conv2_relu_3x3_reduce (64,)\n",
      "Skip relu\n",
      "conv2_3x3_reduce_BN (1, 64, 1, 1)\n",
      "Skip BN\n",
      "conv2_3x3 (192, 64, 3, 3)\n",
      "conv2_relu_3x3 (192,)\n",
      "Skip relu\n",
      "conv2_3x3_BN (1, 192, 1, 1)\n",
      "Skip BN\n",
      "conv2_1_3x3_reduce (64, 192, 1, 1)\n",
      "conv2_1_relu_3x3_reduce (64,)\n",
      "Skip relu\n",
      "conv2_1_3x3_reduce_BN (1, 64, 1, 1)\n",
      "Skip BN\n",
      "conv2_1_3x3 (192, 64, 3, 3)\n",
      "conv2_1_relu_3x3 (192,)\n",
      "Skip relu\n",
      "conv2_1_3x3_BN (1, 192, 1, 1)\n",
      "Skip BN\n",
      "inception_3a_1x1 (64, 192, 1, 1)\n",
      "inception_3a_relu_1x1 (64,)\n",
      "Skip relu\n",
      "inception_3a_1x1_BN (1, 64, 1, 1)\n",
      "Skip BN\n",
      "inception_3a_3x3_reduce (96, 192, 1, 1)\n",
      "inception_3a_relu_3x3_reduce (96,)\n",
      "Skip relu\n",
      "inception_3a_3x3_reduce_BN (1, 96, 1, 1)\n",
      "Skip BN\n",
      "inception_3a_3x3 (128, 96, 3, 3)\n",
      "inception_3a_relu_3x3 (128,)\n",
      "Skip relu\n",
      "inception_3a_3x3_BN (1, 128, 1, 1)\n",
      "Skip BN\n",
      "inception_3a_pool_proj (32, 192, 1, 1)\n",
      "inception_3a_relu_pool_proj (32,)\n",
      "Skip relu\n",
      "inception_3a_pool_proj_BN (1, 32, 1, 1)\n",
      "Skip BN\n",
      "loss0_conv (128, 224, 1, 1)\n",
      "loss0_relu_conv (128,)\n",
      "Skip relu\n",
      "loss0_conv_BN (1, 128, 1, 1)\n",
      "Skip BN\n",
      "loss0_fc (1024, 36992)\n",
      "loss0_relu_fc (1024,)\n",
      "Skip relu\n",
      "loss0_fc_BN (1, 1024, 1, 1)\n",
      "Skip BN\n",
      "loss0_classifier (1000, 1024)\n",
      "inception_3b_1x1 (128, 224, 1, 1)\n",
      "inception_3b_relu_1x1 (128,)\n",
      "Skip relu\n",
      "inception_3b_1x1_BN (1, 128, 1, 1)\n",
      "Skip BN\n",
      "inception_3b_3x3_reduce (128, 224, 1, 1)\n",
      "inception_3b_relu_3x3_reduce (128,)\n",
      "Skip relu\n",
      "inception_3b_3x3_reduce_BN (1, 128, 1, 1)\n",
      "Skip BN\n",
      "inception_3b_3x3 (192, 128, 3, 3)\n",
      "inception_3b_relu_3x3 (192,)\n",
      "Skip relu\n",
      "inception_3b_3x3_BN (1, 192, 1, 1)\n",
      "Skip BN\n",
      "inception_3b_pool_proj (64, 224, 1, 1)\n",
      "inception_3b_relu_pool_proj (64,)\n",
      "Skip relu\n",
      "inception_3b_pool_proj_BN (1, 64, 1, 1)\n",
      "Skip BN\n",
      "inception_4a_1x1 (192, 384, 1, 1)\n",
      "inception_4a_relu_1x1 (192,)\n",
      "Skip relu\n",
      "inception_4a_1x1_BN (1, 192, 1, 1)\n",
      "Skip BN\n",
      "inception_4a_3x3_reduce (96, 384, 1, 1)\n",
      "inception_4a_relu_3x3_reduce (96,)\n",
      "Skip relu\n",
      "inception_4a_3x3_reduce_BN (1, 96, 1, 1)\n",
      "Skip BN\n",
      "inception_4a_3x3 (208, 96, 3, 3)\n",
      "inception_4a_relu_3x3 (208,)\n",
      "Skip relu\n",
      "inception_4a_3x3_BN (1, 208, 1, 1)\n",
      "Skip BN\n",
      "inception_4a_pool_proj (64, 384, 1, 1)\n",
      "inception_4a_relu_pool_proj (64,)\n",
      "Skip relu\n",
      "inception_4a_pool_proj_BN (1, 64, 1, 1)\n",
      "Skip BN\n",
      "loss1_conv (128, 464, 1, 1)\n",
      "loss1_relu_conv (128,)\n",
      "Skip relu\n",
      "loss1_conv_BN (1, 128, 1, 1)\n",
      "Skip BN\n",
      "loss1_fc (1024, 10368)\n",
      "loss1_relu_fc (1024,)\n",
      "Skip relu\n",
      "loss1_fc_BN (1, 1024, 1, 1)\n",
      "Skip BN\n",
      "loss1_classifier (1000, 1024)\n",
      "inception_4b_1x1 (160, 464, 1, 1)\n",
      "inception_4b_relu_1x1 (160,)\n",
      "Skip relu\n",
      "inception_4b_1x1_BN (1, 160, 1, 1)\n",
      "Skip BN\n",
      "inception_4b_3x3_reduce (112, 464, 1, 1)\n",
      "inception_4b_relu_3x3_reduce (112,)\n",
      "Skip relu\n",
      "inception_4b_3x3_reduce_BN (1, 112, 1, 1)\n",
      "Skip BN\n",
      "inception_4b_3x3 (224, 112, 3, 3)\n",
      "inception_4b_relu_3x3 (224,)\n",
      "Skip relu\n",
      "inception_4b_3x3_BN (1, 224, 1, 1)\n",
      "Skip BN\n",
      "inception_4b_pool_proj (64, 464, 1, 1)\n",
      "inception_4b_relu_pool_proj (64,)\n",
      "Skip relu\n",
      "inception_4b_pool_proj_BN (1, 64, 1, 1)\n",
      "Skip BN\n",
      "inception_4c_1x1 (128, 448, 1, 1)\n",
      "inception_4c_relu_1x1 (128,)\n",
      "Skip relu\n",
      "inception_4c_1x1_BN (1, 128, 1, 1)\n",
      "Skip BN\n",
      "inception_4c_3x3_reduce (128, 448, 1, 1)\n",
      "inception_4c_relu_3x3_reduce (128,)\n",
      "Skip relu\n",
      "inception_4c_3x3_reduce_BN (1, 128, 1, 1)\n",
      "Skip BN\n",
      "inception_4c_3x3 (256, 128, 3, 3)\n",
      "inception_4c_relu_3x3 (256,)\n",
      "Skip relu\n",
      "inception_4c_3x3_BN (1, 256, 1, 1)\n",
      "Skip BN\n",
      "inception_4c_pool_proj (64, 448, 1, 1)\n",
      "inception_4c_relu_pool_proj (64,)\n",
      "Skip relu\n",
      "inception_4c_pool_proj_BN (1, 64, 1, 1)\n",
      "Skip BN\n",
      "inception_4d_1x1 (112, 448, 1, 1)\n",
      "inception_4d_relu_1x1 (112,)\n",
      "Skip relu\n",
      "inception_4d_1x1_BN (1, 112, 1, 1)\n",
      "Skip BN\n",
      "inception_4d_3x3_reduce (144, 448, 1, 1)\n",
      "inception_4d_relu_3x3_reduce (144,)\n",
      "Skip relu\n",
      "inception_4d_3x3_reduce_BN (1, 144, 1, 1)\n",
      "Skip BN\n",
      "inception_4d_3x3 (288, 144, 3, 3)\n",
      "inception_4d_relu_3x3 (288,)\n",
      "Skip relu\n",
      "inception_4d_3x3_BN (1, 288, 1, 1)\n",
      "Skip BN\n",
      "inception_4d_pool_proj (64, 448, 1, 1)\n",
      "inception_4d_relu_pool_proj (64,)\n",
      "Skip relu\n",
      "inception_4d_pool_proj_BN (1, 64, 1, 1)\n",
      "Skip BN\n",
      "loss2_conv (128, 464, 1, 1)\n",
      "loss2_relu_conv (128,)\n",
      "Skip relu\n",
      "loss2_conv_BN (1, 128, 1, 1)\n",
      "Skip BN\n",
      "loss2_fc (1024, 10368)\n",
      "loss2_relu_fc (1024,)\n",
      "Skip relu\n",
      "loss2_fc_BN (1, 1024, 1, 1)\n",
      "Skip BN\n",
      "loss2_classifier (1000, 1024)\n",
      "inception_5a_1x1 (256, 464, 1, 1)\n",
      "inception_5a_relu_1x1 (256,)\n",
      "Skip relu\n",
      "inception_5a_1x1_BN (1, 256, 1, 1)\n",
      "Skip BN\n",
      "inception_5a_3x3_reduce (160, 464, 1, 1)\n",
      "inception_5a_relu_3x3_reduce (160,)\n",
      "Skip relu\n",
      "inception_5a_3x3_reduce_BN (1, 160, 1, 1)\n",
      "Skip BN\n",
      "inception_5a_3x3 (320, 160, 3, 3)\n",
      "inception_5a_relu_3x3 (320,)\n",
      "Skip relu\n",
      "inception_5a_3x3_BN (1, 320, 1, 1)\n",
      "Skip BN\n",
      "inception_5a_pool_proj (128, 464, 1, 1)\n",
      "inception_5a_relu_pool_proj (128,)\n",
      "Skip relu\n",
      "inception_5a_pool_proj_BN (1, 128, 1, 1)\n",
      "Skip BN\n",
      "inception_5b_1x1 (256, 704, 1, 1)\n",
      "inception_5b_relu_1x1 (256,)\n",
      "Skip relu\n",
      "inception_5b_1x1_BN (1, 256, 1, 1)\n",
      "Skip BN\n",
      "inception_5b_3x3_reduce (192, 704, 1, 1)\n",
      "inception_5b_relu_3x3_reduce (192,)\n",
      "Skip relu\n",
      "inception_5b_3x3_reduce_BN (1, 192, 1, 1)\n",
      "Skip BN\n",
      "inception_5b_3x3 (256, 192, 3, 3)\n",
      "inception_5b_relu_3x3 (256,)\n",
      "Skip relu\n",
      "inception_5b_3x3_BN (1, 256, 1, 1)\n",
      "Skip BN\n",
      "inception_5b_pool_proj (128, 704, 1, 1)\n",
      "inception_5b_relu_pool_proj (128,)\n",
      "Skip relu\n",
      "inception_5b_pool_proj_BN (1, 128, 1, 1)\n",
      "Skip BN\n",
      "inception_5c_1x1 (256, 640, 1, 1)\n",
      "inception_5c_relu_1x1 (256,)\n",
      "Skip relu\n",
      "inception_5c_1x1_BN (1, 256, 1, 1)\n",
      "Skip BN\n",
      "inception_5c_3x3_reduce (192, 640, 1, 1)\n",
      "inception_5c_relu_3x3_reduce (192,)\n",
      "Skip relu\n",
      "inception_5c_3x3_reduce_BN (1, 192, 1, 1)\n",
      "Skip BN\n",
      "inception_5c_3x3 (256, 192, 3, 3)\n",
      "inception_5c_relu_3x3 (256,)\n",
      "Skip relu\n",
      "inception_5c_3x3_BN (1, 256, 1, 1)\n",
      "Skip BN\n",
      "inception_5c_pool_proj (128, 640, 1, 1)\n",
      "inception_5c_relu_pool_proj (128,)\n",
      "Skip relu\n",
      "inception_5c_pool_proj_BN (1, 128, 1, 1)\n",
      "Skip BN\n",
      "loss3_classifier (1000, 3200)\n"
     ]
    }
   ],
   "source": [
    "#Orthogonalization\n",
    "import numpy as np\n",
    "\n",
    "\n",
    "#from random import get_rng\n",
    "\n",
    "def sample(shape):\n",
    "        if len(shape) < 2:\n",
    "            raise RuntimeError(\"Only shapes of length 2 or more are \"\n",
    "                               \"supported.\")\n",
    "\n",
    "        flat_shape = (shape[0], np.prod(shape[1:]))\n",
    "        a = standard_normal(flat_shape)\n",
    "        u, _, v = np.linalg.svd(a, full_matrices=False)\n",
    "        q = u if u.shape == flat_shape else v\n",
    "        q = q.reshape(shape)\n",
    "        return sqrt(2) * q\n",
    "    \n",
    "for k,v in solver.net.params.iteritems():\n",
    "    print k, v[0].data.shape\n",
    "    if k == 'conv_clf':\n",
    "        continue\n",
    "    if \"_BN\" in k:\n",
    "        print \"Skip BN\"\n",
    "        continue\n",
    "    if \"relu\" in k:\n",
    "        print \"Skip relu\"\n",
    "        continue\n",
    "        \n",
    "    ll=sample(v[0].data[:].shape)\n",
    "#    print 'before'\n",
    "    solver.net.params[k][0].data[:]=ll\n",
    "#    print 'after'\n",
    "#    print solver.net.params[k][0].data\n",
    "#    break\n",
    "    \n",
    "#    break\n",
    "#net.params['conv'][1].data[0]"
   ]
  },
  {
   "cell_type": "code",
   "execution_count": null,
   "metadata": {
    "collapsed": false
   },
   "outputs": [],
   "source": []
  },
  {
   "cell_type": "markdown",
   "metadata": {},
   "source": [
    "Before taking off, let's check that everything is loaded as we expect. We'll run a forward pass on the train and test nets and check that they contain our data."
   ]
  },
  {
   "cell_type": "code",
   "execution_count": 11,
   "metadata": {
    "collapsed": false
   },
   "outputs": [
    {
     "data": {
      "text/plain": [
       "{'loss': array(2.3018879890441895, dtype=float32)}"
      ]
     },
     "execution_count": 11,
     "metadata": {},
     "output_type": "execute_result"
    }
   ],
   "source": [
    "solver.net.forward()  # train net\n",
    "solver.test_nets[0].forward()  # test net (there can be more than one)"
   ]
  },
  {
   "cell_type": "code",
   "execution_count": 30,
   "metadata": {
    "collapsed": false
   },
   "outputs": [],
   "source": [
    "# we use a little trick to tile the first eight images\n",
    "#imshow(solver.net.blobs['data'].data[:8, 0].transpose(1, 0, 2).reshape(32, 8*32), cmap='gray')\n",
    "#print solver.net.blobs['label'].data[:8]"
   ]
  },
  {
   "cell_type": "code",
   "execution_count": 31,
   "metadata": {
    "collapsed": false
   },
   "outputs": [],
   "source": [
    "#imshow(solver.test_nets[0].blobs['data'].data[:8, 0].transpose(1, 0, 2).reshape(28, 8*28), cmap='gray')\n",
    "#print solver.test_nets[0].blobs['label'].data[:8]"
   ]
  },
  {
   "cell_type": "markdown",
   "metadata": {},
   "source": [
    "Both train and test nets seem to be loading data, and to have correct labels.\n",
    "\n",
    "Let's take one step of (minibatch) SGD and see what happens."
   ]
  },
  {
   "cell_type": "code",
   "execution_count": 5,
   "metadata": {
    "collapsed": true
   },
   "outputs": [],
   "source": [
    "solver.step(1)"
   ]
  },
  {
   "cell_type": "markdown",
   "metadata": {},
   "source": [
    "Do we have gradients propagating through our filters? Let's see the updates to the first layer, shown here as a $4 \\times 5$ grid of $5 \\times 5$ filters."
   ]
  },
  {
   "cell_type": "code",
   "execution_count": 33,
   "metadata": {
    "collapsed": false
   },
   "outputs": [],
   "source": [
    "#imshow(solver.net.params['conv1_1'][0].diff[:, 0].reshape(4, 5, 5, 5)\n",
    "#       .transpose(0, 2, 1, 3).reshape(4*5, 5*5), cmap='gray')"
   ]
  },
  {
   "cell_type": "markdown",
   "metadata": {},
   "source": [
    "Something is happening. Let's run the net for a while, keeping track of a few things as it goes.\n",
    "Note that this process will be the same as if training through the `caffe` binary. In particular:\n",
    "* logging will continue to happen as normal\n",
    "* snapshots will be taken at the interval specified in the solver prototxt (here, every 5000 iterations)\n",
    "* testing will happen at the interval specified (here, every 500 iterations)\n",
    "\n",
    "Since we have control of the loop in Python, we're free to compute additional things as we go, as we show below. We can do many other things as well, for example:\n",
    "* write a custom stopping criterion\n",
    "* change the solving process by updating the net in the loop"
   ]
  },
  {
   "cell_type": "code",
   "execution_count": 5,
   "metadata": {
    "collapsed": false
   },
   "outputs": [],
   "source": [
    "niter = 85000\n",
    "test_interval = 1000\n",
    "# losses will also be stored in the log\n",
    "train_loss_1 = zeros(niter)\n",
    "test_acc_1 = zeros(int(np.ceil(niter / test_interval)))\n",
    "output = zeros((niter, 8, 10,1,1))\n",
    "it=0\n",
    "train_loss_interval=40;"
   ]
  },
  {
   "cell_type": "code",
   "execution_count": 6,
   "metadata": {
    "collapsed": false
   },
   "outputs": [
    {
     "ename": "KeyError",
     "evalue": "'loss'",
     "output_type": "error",
     "traceback": [
      "\u001b[1;31m---------------------------------------------------------------------------\u001b[0m",
      "\u001b[1;31mKeyError\u001b[0m                                  Traceback (most recent call last)",
      "\u001b[1;32m<ipython-input-6-a317eb044ec5>\u001b[0m in \u001b[0;36m<module>\u001b[1;34m()\u001b[0m\n\u001b[1;32m----> 1\u001b[1;33m \u001b[0mget_ipython\u001b[0m\u001b[1;33m(\u001b[0m\u001b[1;33m)\u001b[0m\u001b[1;33m.\u001b[0m\u001b[0mrun_cell_magic\u001b[0m\u001b[1;33m(\u001b[0m\u001b[1;34mu'time'\u001b[0m\u001b[1;33m,\u001b[0m \u001b[1;34mu''\u001b[0m\u001b[1;33m,\u001b[0m \u001b[1;34mu'niter = 2\\ntest_interval = 1000\\n# losses will also be stored in the log\\ntrain_loss_1 = zeros(niter)\\ntest_acc_1 = zeros(int(np.ceil(niter / test_interval)))\\noutput = zeros((niter, 8, 1000,1,1))\\nit=0\\ntrain_loss_interval=40;\\n# the main solver loop\\n\\nfor it1 in range(niter):\\n    it+=1\\n    solver.step(1)  # SGD by Caffe\\n    \\n    # store the train loss\\n    train_loss_1[it] = solver.net.blobs[\\'loss\\'].data\\n #   if it % train_loss_interval == 0:\\n #       print \\'Iteration\\', it, \\'train loss = \\',train_loss_1[it]\\n\\n    # store the output on the first test batch\\n    # (start the forward pass at conv1 to avoid loading new data)\\n  #  solver.test_nets[0].forward(start=\\'conv1_1\\')\\n  #  output[it] = solver.test_nets[0].blobs[\\'conv_clf\\'].data[:8]\\n    \\n    # run a full test every so often\\n    # (Caffe can also do this for us and write to a log, but we show here\\n    #  how to do it directly in Python, where more complicated things are easier.)\\n  #  if it % test_interval == 0:\\n  #      print \\'Iteration\\', it, \\'testing...\\'\\n  #      correct = 0\\n  #      for test_it in range(250):\\n  #          solver.test_nets[0].forward()\\n  #          correct += sum(solver.test_nets[0].blobs[\\'conv_clf\\'].data.argmax(1).squeeze() \\n  #                         == solver.test_nets[0].blobs[\\'label\\'].data.astype(int))\\n  #      test_acc_1[it // test_interval] = correct / 1e4\\n  #      print \"acc=\" + str(test_acc_1[it // test_interval])'\u001b[0m\u001b[1;33m)\u001b[0m\u001b[1;33m\u001b[0m\u001b[0m\n\u001b[0m",
      "\u001b[1;32m/usr/local/lib/python2.7/dist-packages/IPython/core/interactiveshell.pyc\u001b[0m in \u001b[0;36mrun_cell_magic\u001b[1;34m(self, magic_name, line, cell)\u001b[0m\n\u001b[0;32m   2291\u001b[0m             \u001b[0mmagic_arg_s\u001b[0m \u001b[1;33m=\u001b[0m \u001b[0mself\u001b[0m\u001b[1;33m.\u001b[0m\u001b[0mvar_expand\u001b[0m\u001b[1;33m(\u001b[0m\u001b[0mline\u001b[0m\u001b[1;33m,\u001b[0m \u001b[0mstack_depth\u001b[0m\u001b[1;33m)\u001b[0m\u001b[1;33m\u001b[0m\u001b[0m\n\u001b[0;32m   2292\u001b[0m             \u001b[1;32mwith\u001b[0m \u001b[0mself\u001b[0m\u001b[1;33m.\u001b[0m\u001b[0mbuiltin_trap\u001b[0m\u001b[1;33m:\u001b[0m\u001b[1;33m\u001b[0m\u001b[0m\n\u001b[1;32m-> 2293\u001b[1;33m                 \u001b[0mresult\u001b[0m \u001b[1;33m=\u001b[0m \u001b[0mfn\u001b[0m\u001b[1;33m(\u001b[0m\u001b[0mmagic_arg_s\u001b[0m\u001b[1;33m,\u001b[0m \u001b[0mcell\u001b[0m\u001b[1;33m)\u001b[0m\u001b[1;33m\u001b[0m\u001b[0m\n\u001b[0m\u001b[0;32m   2294\u001b[0m             \u001b[1;32mreturn\u001b[0m \u001b[0mresult\u001b[0m\u001b[1;33m\u001b[0m\u001b[0m\n\u001b[0;32m   2295\u001b[0m \u001b[1;33m\u001b[0m\u001b[0m\n",
      "\u001b[1;32m/usr/local/lib/python2.7/dist-packages/IPython/core/magics/execution.pyc\u001b[0m in \u001b[0;36mtime\u001b[1;34m(self, line, cell, local_ns)\u001b[0m\n",
      "\u001b[1;32m/usr/local/lib/python2.7/dist-packages/IPython/core/magic.pyc\u001b[0m in \u001b[0;36m<lambda>\u001b[1;34m(f, *a, **k)\u001b[0m\n\u001b[0;32m    191\u001b[0m     \u001b[1;31m# but it's overkill for just that one bit of state.\u001b[0m\u001b[1;33m\u001b[0m\u001b[1;33m\u001b[0m\u001b[0m\n\u001b[0;32m    192\u001b[0m     \u001b[1;32mdef\u001b[0m \u001b[0mmagic_deco\u001b[0m\u001b[1;33m(\u001b[0m\u001b[0marg\u001b[0m\u001b[1;33m)\u001b[0m\u001b[1;33m:\u001b[0m\u001b[1;33m\u001b[0m\u001b[0m\n\u001b[1;32m--> 193\u001b[1;33m         \u001b[0mcall\u001b[0m \u001b[1;33m=\u001b[0m \u001b[1;32mlambda\u001b[0m \u001b[0mf\u001b[0m\u001b[1;33m,\u001b[0m \u001b[1;33m*\u001b[0m\u001b[0ma\u001b[0m\u001b[1;33m,\u001b[0m \u001b[1;33m**\u001b[0m\u001b[0mk\u001b[0m\u001b[1;33m:\u001b[0m \u001b[0mf\u001b[0m\u001b[1;33m(\u001b[0m\u001b[1;33m*\u001b[0m\u001b[0ma\u001b[0m\u001b[1;33m,\u001b[0m \u001b[1;33m**\u001b[0m\u001b[0mk\u001b[0m\u001b[1;33m)\u001b[0m\u001b[1;33m\u001b[0m\u001b[0m\n\u001b[0m\u001b[0;32m    194\u001b[0m \u001b[1;33m\u001b[0m\u001b[0m\n\u001b[0;32m    195\u001b[0m         \u001b[1;32mif\u001b[0m \u001b[0mcallable\u001b[0m\u001b[1;33m(\u001b[0m\u001b[0marg\u001b[0m\u001b[1;33m)\u001b[0m\u001b[1;33m:\u001b[0m\u001b[1;33m\u001b[0m\u001b[0m\n",
      "\u001b[1;32m/usr/local/lib/python2.7/dist-packages/IPython/core/magics/execution.pyc\u001b[0m in \u001b[0;36mtime\u001b[1;34m(self, line, cell, local_ns)\u001b[0m\n\u001b[0;32m   1165\u001b[0m         \u001b[1;32melse\u001b[0m\u001b[1;33m:\u001b[0m\u001b[1;33m\u001b[0m\u001b[0m\n\u001b[0;32m   1166\u001b[0m             \u001b[0mst\u001b[0m \u001b[1;33m=\u001b[0m \u001b[0mclock2\u001b[0m\u001b[1;33m(\u001b[0m\u001b[1;33m)\u001b[0m\u001b[1;33m\u001b[0m\u001b[0m\n\u001b[1;32m-> 1167\u001b[1;33m             \u001b[1;32mexec\u001b[0m\u001b[1;33m(\u001b[0m\u001b[0mcode\u001b[0m\u001b[1;33m,\u001b[0m \u001b[0mglob\u001b[0m\u001b[1;33m,\u001b[0m \u001b[0mlocal_ns\u001b[0m\u001b[1;33m)\u001b[0m\u001b[1;33m\u001b[0m\u001b[0m\n\u001b[0m\u001b[0;32m   1168\u001b[0m             \u001b[0mend\u001b[0m \u001b[1;33m=\u001b[0m \u001b[0mclock2\u001b[0m\u001b[1;33m(\u001b[0m\u001b[1;33m)\u001b[0m\u001b[1;33m\u001b[0m\u001b[0m\n\u001b[0;32m   1169\u001b[0m             \u001b[0mout\u001b[0m \u001b[1;33m=\u001b[0m \u001b[0mNone\u001b[0m\u001b[1;33m\u001b[0m\u001b[0m\n",
      "\u001b[1;32m<timed exec>\u001b[0m in \u001b[0;36m<module>\u001b[1;34m()\u001b[0m\n",
      "\u001b[1;31mKeyError\u001b[0m: 'loss'"
     ]
    }
   ],
   "source": [
    "%%time\n",
    "niter = 2\n",
    "test_interval = 1000\n",
    "# losses will also be stored in the log\n",
    "train_loss_1 = zeros(niter)\n",
    "test_acc_1 = zeros(int(np.ceil(niter / test_interval)))\n",
    "output = zeros((niter, 8, 1000,1,1))\n",
    "it=0\n",
    "train_loss_interval=40;\n",
    "# the main solver loop\n",
    "\n",
    "for it1 in range(niter):\n",
    "    it+=1\n",
    "    solver.step(1)  # SGD by Caffe\n",
    "    \n",
    "    # store the train loss\n",
    "    train_loss_1[it] = solver.net.blobs['loss'].data\n",
    " #   if it % train_loss_interval == 0:\n",
    " #       print 'Iteration', it, 'train loss = ',train_loss_1[it]\n",
    "\n",
    "    # store the output on the first test batch\n",
    "    # (start the forward pass at conv1 to avoid loading new data)\n",
    "  #  solver.test_nets[0].forward(start='conv1_1')\n",
    "  #  output[it] = solver.test_nets[0].blobs['conv_clf'].data[:8]\n",
    "    \n",
    "    # run a full test every so often\n",
    "    # (Caffe can also do this for us and write to a log, but we show here\n",
    "    #  how to do it directly in Python, where more complicated things are easier.)\n",
    "  #  if it % test_interval == 0:\n",
    "  #      print 'Iteration', it, 'testing...'\n",
    "  #      correct = 0\n",
    "  #      for test_it in range(250):\n",
    "  #          solver.test_nets[0].forward()\n",
    "  #          correct += sum(solver.test_nets[0].blobs['conv_clf'].data.argmax(1).squeeze() \n",
    "  #                         == solver.test_nets[0].blobs['label'].data.astype(int))\n",
    "  #      test_acc_1[it // test_interval] = correct / 1e4\n",
    "  #      print \"acc=\" + str(test_acc_1[it // test_interval])"
   ]
  },
  {
   "cell_type": "code",
   "execution_count": null,
   "metadata": {
    "collapsed": true
   },
   "outputs": [],
   "source": [
    "%%time\n",
    "\n",
    "# the main solver loop\n",
    "\n",
    "for it1 in range(niter-13000):\n",
    "    it+=1\n",
    "    solver.step(1)  # SGD by Caffe\n",
    "    \n",
    "    # store the train loss\n",
    "    train_loss_1[it] = solver.net.blobs['loss'].data\n",
    "    if it % train_loss_interval == 0:\n",
    "        print 'Iteration', it, 'train loss = ',train_loss_1[it]\n",
    "\n",
    "    # store the output on the first test batch\n",
    "    # (start the forward pass at conv1 to avoid loading new data)\n",
    "    solver.test_nets[0].forward(start='conv1_1')\n",
    "    output[it] = solver.test_nets[0].blobs['conv_clf'].data[:8]\n",
    "    \n",
    "    # run a full test every so often\n",
    "    # (Caffe can also do this for us and write to a log, but we show here\n",
    "    #  how to do it directly in Python, where more complicated things are easier.)\n",
    "    if it % test_interval == 0:\n",
    "        print 'Iteration', it, 'testing...'\n",
    "        correct = 0\n",
    "        for test_it in range(250):\n",
    "            solver.test_nets[0].forward()\n",
    "            correct += sum(solver.test_nets[0].blobs['conv_clf'].data.argmax(1).squeeze() \n",
    "                           == solver.test_nets[0].blobs['label'].data.astype(int))\n",
    "        test_acc_1[it // test_interval] = correct / 1e4\n",
    "        print \"acc=\" + str(test_acc_1[it // test_interval])"
   ]
  },
  {
   "cell_type": "code",
   "execution_count": 13,
   "metadata": {
    "collapsed": false
   },
   "outputs": [
    {
     "data": {
      "text/plain": [
       "(40, 10, 1, 1)"
      ]
     },
     "execution_count": 13,
     "metadata": {},
     "output_type": "execute_result"
    }
   ],
   "source": [
    "solver.test_nets[0].blobs['conv_clf'].data.shape"
   ]
  },
  {
   "cell_type": "code",
   "execution_count": 13,
   "metadata": {
    "collapsed": false
   },
   "outputs": [
    {
     "ename": "AttributeError",
     "evalue": "'SGDSolver' object has no attribute 'stepvalue'",
     "output_type": "error",
     "traceback": [
      "\u001b[1;31m---------------------------------------------------------------------------\u001b[0m",
      "\u001b[1;31mAttributeError\u001b[0m                            Traceback (most recent call last)",
      "\u001b[1;32m<ipython-input-13-7f6d0e971b19>\u001b[0m in \u001b[0;36m<module>\u001b[1;34m()\u001b[0m\n\u001b[1;32m----> 1\u001b[1;33m \u001b[0msolver\u001b[0m\u001b[1;33m.\u001b[0m\u001b[0mstepvalue\u001b[0m\u001b[1;33m\u001b[0m\u001b[0m\n\u001b[0m",
      "\u001b[1;31mAttributeError\u001b[0m: 'SGDSolver' object has no attribute 'stepvalue'"
     ]
    }
   ],
   "source": [
    "solver."
   ]
  },
  {
   "cell_type": "code",
   "execution_count": 14,
   "metadata": {
    "collapsed": false
   },
   "outputs": [
    {
     "ename": "NameError",
     "evalue": "name 'test_acc' is not defined",
     "output_type": "error",
     "traceback": [
      "\u001b[1;31m---------------------------------------------------------------------------\u001b[0m",
      "\u001b[1;31mNameError\u001b[0m                                 Traceback (most recent call last)",
      "\u001b[1;32m<ipython-input-14-a40e3484f00c>\u001b[0m in \u001b[0;36m<module>\u001b[1;34m()\u001b[0m\n\u001b[1;32m----> 1\u001b[1;33m \u001b[1;32mprint\u001b[0m \u001b[0mmax\u001b[0m\u001b[1;33m(\u001b[0m\u001b[0mtest_acc\u001b[0m\u001b[1;33m)\u001b[0m\u001b[1;33m\u001b[0m\u001b[0m\n\u001b[0m",
      "\u001b[1;31mNameError\u001b[0m: name 'test_acc' is not defined"
     ]
    }
   ],
   "source": [
    "print max(test_acc)\n"
   ]
  },
  {
   "cell_type": "code",
   "execution_count": null,
   "metadata": {
    "collapsed": false
   },
   "outputs": [],
   "source": [
    "correct = 0\n",
    "for test_it in range(100):\n",
    "    solver.test_nets[1].forward()\n",
    "    correct += sum(solver.test_nets[1].blobs['conv_clf'].data.argmax(1).squeeze() \n",
    "                   == solver.test_nets[1].blobs['label'].data.astype(int))\n",
    "print \"acc=\" + str(correct/ 1e4)"
   ]
  },
  {
   "cell_type": "markdown",
   "metadata": {},
   "source": [
    "Let's plot the train loss and test accuracy."
   ]
  },
  {
   "cell_type": "code",
   "execution_count": 10,
   "metadata": {
    "collapsed": false
   },
   "outputs": [
    {
     "data": {
      "text/plain": [
       "(0, 13000)"
      ]
     },
     "execution_count": 10,
     "metadata": {},
     "output_type": "execute_result"
    },
    {
     "data": {
      "image/png": "[encoded data removed]",
      "text/plain": [
       "<matplotlib.figure.Figure at 0x7e8b74de48d0>"
      ]
     },
     "metadata": {},
     "output_type": "display_data"
    }
   ],
   "source": [
    "_, ax1 = subplots()\n",
    "ax2 = ax1.twinx()\n",
    "ax1.plot(arange(niter), train_loss_1)\n",
    "ax2.plot(test_interval * arange(len(test_acc_1)), test_acc_1, 'r')\n",
    "ax1.set_xlabel('iteration')\n",
    "ax1.set_ylabel('train loss')\n",
    "ax2.set_ylabel('test accuracy')\n",
    "ax2.set_ylim((0,0.9))\n",
    "ax2.set_xlim((0,13000))"
   ]
  },
  {
   "cell_type": "code",
   "execution_count": 57,
   "metadata": {
    "collapsed": false
   },
   "outputs": [
    {
     "data": {
      "text/plain": [
       "(0, 0.9)"
      ]
     },
     "execution_count": 57,
     "metadata": {},
     "output_type": "execute_result"
    },
    {
     "data": {
      "image/png": "[encoded data removed]",
      "text/plain": [
       "<matplotlib.figure.Figure at 0x7f93d090ac10>"
      ]
     },
     "metadata": {},
     "output_type": "display_data"
    }
   ],
   "source": [
    "_, ax1 = subplots()\n",
    "ax2 = ax1.twinx()\n",
    "ax1.plot(arange(niter), train_loss_1)\n",
    "ax2.plot(test_interval * arange(len(test_acc_1)), test_acc_1, 'r')\n",
    "ax1.set_xlabel('iteration')\n",
    "ax1.set_ylabel('train loss')\n",
    "ax2.set_ylabel('test accuracy')\n",
    "ax2.set_ylim((0,0.9))"
   ]
  },
  {
   "cell_type": "code",
   "execution_count": 16,
   "metadata": {
    "collapsed": false
   },
   "outputs": [
    {
     "name": "stdout",
     "output_type": "stream",
     "text": [
      "10.6641\n"
     ]
    }
   ],
   "source": [
    "print max(test_acc)"
   ]
  },
  {
   "cell_type": "markdown",
   "metadata": {},
   "source": [
    "The loss seems to have dropped quickly and coverged (except for stochasticity), while the accuracy rose correspondingly. Hooray!\n",
    "\n",
    "Since we saved the results on the first test batch, we can watch how our prediction scores evolved. We'll plot time on the $x$ axis and each possible label on the $y$, with lightness indicating confidence."
   ]
  },
  {
   "cell_type": "code",
   "execution_count": 17,
   "metadata": {
    "collapsed": false,
    "scrolled": false
   },
   "outputs": [
    {
     "data": {
      "image/png": "[encoded data removed]",
      "text/plain": [
       "<matplotlib.figure.Figure at 0x7f7938797710>"
      ]
     },
     "metadata": {},
     "output_type": "display_data"
    },
    {
     "data": {
      "image/png": "[encoded data removed]",
      "text/plain": [
       "<matplotlib.figure.Figure at 0x7f7938323190>"
      ]
     },
     "metadata": {},
     "output_type": "display_data"
    },
    {
     "data": {
      "image/png": "[encoded data removed]",
      "text/plain": [
       "<matplotlib.figure.Figure at 0x7f7938233050>"
      ]
     },
     "metadata": {},
     "output_type": "display_data"
    },
    {
     "data": {
      "image/png": "[encoded data removed]",
      "text/plain": [
       "<matplotlib.figure.Figure at 0x7f793821a310>"
      ]
     },
     "metadata": {},
     "output_type": "display_data"
    },
    {
     "data": {
      "image/png": "[encoded data removed]",
      "text/plain": [
       "<matplotlib.figure.Figure at 0x7f793819f790>"
      ]
     },
     "metadata": {},
     "output_type": "display_data"
    },
    {
     "data": {
      "image/png": "[encoded data removed]",
      "text/plain": [
       "<matplotlib.figure.Figure at 0x7f793811c290>"
      ]
     },
     "metadata": {},
     "output_type": "display_data"
    },
    {
     "data": {
      "image/png": "[encoded data removed]",
      "text/plain": [
       "<matplotlib.figure.Figure at 0x7f79380a2550>"
      ]
     },
     "metadata": {},
     "output_type": "display_data"
    },
    {
     "data": {
      "image/png": "[encoded data removed]",
      "text/plain": [
       "<matplotlib.figure.Figure at 0x7d792bd10b10>"
      ]
     },
     "metadata": {},
     "output_type": "display_data"
    },
    {
     "data": {
      "image/png": "[encoded data removed]",
      "text/plain": [
       "<matplotlib.figure.Figure at 0x7d792bca2290>"
      ]
     },
     "metadata": {},
     "output_type": "display_data"
    },
    {
     "data": {
      "image/png": "[encoded data removed]",
      "text/plain": [
       "<matplotlib.figure.Figure at 0x7d792bc15650>"
      ]
     },
     "metadata": {},
     "output_type": "display_data"
    },
    {
     "data": {
      "image/png": "[encoded data removed]",
      "text/plain": [
       "<matplotlib.figure.Figure at 0x7d792bb98fd0>"
      ]
     },
     "metadata": {},
     "output_type": "display_data"
    },
    {
     "data": {
      "image/png": "[encoded data removed]",
      "text/plain": [
       "<matplotlib.figure.Figure at 0x7d792bb3b910>"
      ]
     },
     "metadata": {},
     "output_type": "display_data"
    },
    {
     "data": {
      "image/png": "[encoded data removed]",
      "text/plain": [
       "<matplotlib.figure.Figure at 0x7d792ba9ddd0>"
      ]
     },
     "metadata": {},
     "output_type": "display_data"
    },
    {
     "data": {
      "image/png": "[encoded data removed]",
      "text/plain": [
       "<matplotlib.figure.Figure at 0x7d792b9b9550>"
      ]
     },
     "metadata": {},
     "output_type": "display_data"
    },
    {
     "data": {
      "image/png": "[encoded data removed]",
      "text/plain": [
       "<matplotlib.figure.Figure at 0x7d792b97ec50>"
      ]
     },
     "metadata": {},
     "output_type": "display_data"
    },
    {
     "data": {
      "image/png": "[encoded data removed]",
      "text/plain": [
       "<matplotlib.figure.Figure at 0x7d792b91c3d0>"
      ]
     },
     "metadata": {},
     "output_type": "display_data"
    }
   ],
   "source": [
    "for i in range(8):\n",
    "    figure(figsize=(2, 2))\n",
    "    imshow(solver.test_nets[0].blobs['data'].data[i, 0], cmap='gray')\n",
    "    figure(figsize=(10, 2))\n",
    "    imshow(output[:50, i].T, interpolation='nearest', cmap='gray')\n",
    "    xlabel('iteration')\n",
    "    ylabel('label')"
   ]
  },
  {
   "cell_type": "markdown",
   "metadata": {},
   "source": [
    "We started with little idea about any of these digits, and ended up with correct classifications for each. If you've been following along, you'll see the last digit is the most difficult, a slanted \"9\" that's (understandably) most confused with \"4\".\n",
    "\n",
    "Note that these are the \"raw\" output scores rather than the softmax-computed probability vectors. The latter, shown below, make it easier to see the confidence of our net (but harder to see the scores for less likely digits)."
   ]
  },
  {
   "cell_type": "code",
   "execution_count": 18,
   "metadata": {
    "collapsed": false,
    "scrolled": false
   },
   "outputs": [
    {
     "data": {
      "image/png": "[encoded data removed]",
      "text/plain": [
       "<matplotlib.figure.Figure at 0x7d792b65d950>"
      ]
     },
     "metadata": {},
     "output_type": "display_data"
    },
    {
     "data": {
      "image/png": "[encoded data removed]",
      "text/plain": [
       "<matplotlib.figure.Figure at 0x7d792b4bf3d0>"
      ]
     },
     "metadata": {},
     "output_type": "display_data"
    },
    {
     "data": {
      "image/png": "[encoded data removed]",
      "text/plain": [
       "<matplotlib.figure.Figure at 0x7d792b44f290>"
      ]
     },
     "metadata": {},
     "output_type": "display_data"
    },
    {
     "data": {
      "image/png": "[encoded data removed]",
      "text/plain": [
       "<matplotlib.figure.Figure at 0x7d792b3b3a50>"
      ]
     },
     "metadata": {},
     "output_type": "display_data"
    },
    {
     "data": {
      "image/png": "[encoded data removed]",
      "text/plain": [
       "<matplotlib.figure.Figure at 0x7d792b33bd10>"
      ]
     },
     "metadata": {},
     "output_type": "display_data"
    },
    {
     "data": {
      "image/png": "[encoded data removed]",
      "text/plain": [
       "<matplotlib.figure.Figure at 0x7d792b2b79d0>"
      ]
     },
     "metadata": {},
     "output_type": "display_data"
    },
    {
     "data": {
      "image/png": "[encoded data removed]",
      "text/plain": [
       "<matplotlib.figure.Figure at 0x7d792b23ec90>"
      ]
     },
     "metadata": {},
     "output_type": "display_data"
    },
    {
     "data": {
      "image/png": "[encoded data removed]",
      "text/plain": [
       "<matplotlib.figure.Figure at 0x7d792b1bd290>"
      ]
     },
     "metadata": {},
     "output_type": "display_data"
    },
    {
     "data": {
      "image/png": "[encoded data removed]",
      "text/plain": [
       "<matplotlib.figure.Figure at 0x7d792b1419d0>"
      ]
     },
     "metadata": {},
     "output_type": "display_data"
    },
    {
     "data": {
      "image/png": "[encoded data removed]",
      "text/plain": [
       "<matplotlib.figure.Figure at 0x7d792b127d90>"
      ]
     },
     "metadata": {},
     "output_type": "display_data"
    },
    {
     "data": {
      "image/png": "[encoded data removed]",
      "text/plain": [
       "<matplotlib.figure.Figure at 0x7d792b044750>"
      ]
     },
     "metadata": {},
     "output_type": "display_data"
    },
    {
     "data": {
      "image/png": "[encoded data removed]",
      "text/plain": [
       "<matplotlib.figure.Figure at 0x7d792b06c950>"
      ]
     },
     "metadata": {},
     "output_type": "display_data"
    },
    {
     "data": {
      "image/png": "[encoded data removed]",
      "text/plain": [
       "<matplotlib.figure.Figure at 0x7d792af4a550>"
      ]
     },
     "metadata": {},
     "output_type": "display_data"
    },
    {
     "data": {
      "image/png": "[encoded data removed]",
      "text/plain": [
       "<matplotlib.figure.Figure at 0x7d792aed8c90>"
      ]
     },
     "metadata": {},
     "output_type": "display_data"
    },
    {
     "data": {
      "image/png": "[encoded data removed]",
      "text/plain": [
       "<matplotlib.figure.Figure at 0x7d792b570150>"
      ]
     },
     "metadata": {},
     "output_type": "display_data"
    },
    {
     "data": {
      "image/png": "[encoded data removed]",
      "text/plain": [
       "<matplotlib.figure.Figure at 0x7d792baffb50>"
      ]
     },
     "metadata": {},
     "output_type": "display_data"
    }
   ],
   "source": [
    "for i in range(8):\n",
    "    figure(figsize=(2, 2))\n",
    "    imshow(solver.test_nets[0].blobs['data'].data[i, 0], cmap='gray')\n",
    "    figure(figsize=(10, 2))\n",
    "    imshow(exp(output[:50, i].T) / exp(output[:50, i].T).sum(0), interpolation='nearest', cmap='gray')\n",
    "    xlabel('iteration')\n",
    "    ylabel('label')"
   ]
  }
 ],
 "metadata": {
  "description": "Define, train, and test the classic LeNet with the Python interface.",
  "example_name": "Learning LeNet",
  "include_in_docs": true,
  "kernelspec": {
   "display_name": "Python 2",
   "language": "python",
   "name": "python2"
  },
  "language_info": {
   "codemirror_mode": {
    "name": "ipython",
    "version": 2
   },
   "file_extension": ".py",
   "mimetype": "text/x-python",
   "name": "python",
   "nbconvert_exporter": "python",
   "pygments_lexer": "ipython2",
   "version": "2.7.6"
  },
  "priority": 2
 },
 "nbformat": 4,
 "nbformat_minor": 0
}
